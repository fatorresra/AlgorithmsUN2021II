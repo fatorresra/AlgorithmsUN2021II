{
  "cells": [
    {
      "cell_type": "markdown",
      "source": [
        "# Grupo 7 mod 4 = 3"
      ],
      "metadata": {
        "id": "HBtaiH6f4VQz"
      }
    },
    {
      "cell_type": "markdown",
      "metadata": {
        "id": "kwpTH36ZIyQJ"
      },
      "source": [
        "# 3. (1 noneosecond by instruction)\n",
        "\n",
        "Asuuming that you can execute a 1000 million instructions $10^9$ every second, i.e. each instrcution takes 1  nanosecond, 1 $\\eta s  = 10^{-9} s$. If you have algorithms take $\\bf{ Time\\ Complexity}$ steps to solve a poblem of size $n$ as specified in column one. What is the size of the largest porblem that you can solve in the time specified in row one?\n",
        "<br>\n",
        "\n",
        "$$\n",
        "\\begin{array}{|c|c|c|c|c|c|c|c|} \n",
        " \\hline\n",
        " \\bf{ Time\\ Complexity} & Second  & Minute  & Hour & Day & Year & Century & Mileniun  \\\\ \n",
        "  \\hline\\\\\n",
        "\\log_2(n) &  2 ^ {10^9}  & 2 ^ {60 \\cdot 10^9}  & 2 ^ {36 \\cdot 10^{11}} & 2 ^ {8.64 \\cdot 10^{13}} & 2 ^ {3.15 \\cdot 10^{16}} & 2 ^ {3.15 \\cdot 10^{18}} & 2 ^ {3.15 \\cdot 10^{19}} \\\\ \n",
        "   \\hline\\\\\n",
        "\\log_2^2(n) &  2 ^ {\\sqrt{10^9}}  & 2 ^ {\\sqrt{60 \\cdot 10^9}}  & 2 ^ {\\sqrt{36 \\cdot 10^{11}}} & 2 ^ {\\sqrt{8.64 \\cdot 10^{13}}} & 2 ^ {\\sqrt{3.15 \\cdot 10^{16}}} & 2 ^ {\\sqrt{3.15 \\cdot 10^{18}}} & 2 ^ {\\sqrt{3.15 \\cdot 10^{19}}} \\\\ \n",
        "   \\hline\\\\\n",
        "\\sqrt{n} &  10^{18}  & {3.6 \\cdot 10^{21}}  & {1.296 \\cdot 10^{25}} & {7.465 \\cdot 10^{27}} & {9.948 \\cdot 10^{32}} & {9.948 \\cdot 10^{36}} & {9.948 \\cdot 10^{38}} \\\\  \n",
        " \\hline\\\\\n",
        " n &  10^{9}  & 60 \\cdot 10^{9}  & 3600 \\cdot 10^{9} & 8.64 \\cdot 10^{13} & 3.154  \\cdot 10^{16} & 3.154  \\cdot 10^{18} & 3.154  \\cdot 10^{19} \\\\\n",
        " \\hline\\\\\n",
        " n\\lg(n) &  3.962 \\cdot 10^{7}  & 1.944 \\cdot 10^{9}  & 9.857 \\cdot 10^{10} & 2.110 \\cdot 10^{12} & 6.412 \\cdot 10^{14} & 5.667 \\cdot 10^{16} & 5.355 \\cdot 10^{17} \\\\\n",
        " \\hline\\\\\n",
        " n^2 & 3.162 \\cdot 10^{4} & 2.449 \\cdot 10^{5} & 1.897 \\cdot 10^{6} & 9.295 \\cdot 10^{6} & 1.776 \\cdot 10^{8} & 1.776 \\cdot 10^{9} & 5.616 \\cdot 10^{9} \\\\\n",
        " \\hline\\\\\n",
        "  n^3 & 1 \\cdot 10^{3} & 3.915 \\cdot 10^{3} & 1.533 \\cdot 10^{4} & 4.421 \\cdot 10^{4} & 3.160 \\cdot 10^{5} & 1.467 \\cdot 10^{6} & 3.160 \\cdot 10^{6} \\\\\n",
        " \\hline\\\\\n",
        "  n^4 & 1.778 \\cdot 10^{2} & 4.949 \\cdot 10^{2} & 1.377 \\cdot 10^{3} & 3.049 \\cdot 10^{3} & 1.333 \\cdot 10^{4} & 4.214 \\cdot 10^{4} & 7.494 \\cdot 10^{4} \\\\\n",
        " \\hline\\\\\n",
        "  2^n & 29.897 & 35.804 & 41.711 & 46.296 & 54.808 & 61.452 & 64.774 \\\\\n",
        " \\hline\\\\\n",
        " n! & 12.289 & 13.859 & 15.367 & 16.502 & 18.543 & 20.085 & 20.842 \\\\ \n",
        " \\hline\\\\\n",
        " n^n & 9.295 & 10.538 & 11.739 & 12.647 & 14.286 & 15.530 & 16.142 \\\\ \n",
        " \\hline\n",
        "\\end{array}\n",
        "$$"
      ]
    },
    {
      "cell_type": "code",
      "execution_count": 1,
      "metadata": {
        "id": "szukBFthF1_s"
      },
      "outputs": [],
      "source": [
        "import math\n",
        "# 1. One microsecond by Instructionmath.sqrt(60*10**6)"
      ]
    },
    {
      "cell_type": "markdown",
      "metadata": {
        "id": "g2z6FlkD4NO7"
      },
      "source": [
        "# **Análisis**:\n",
        "\n",
        "#### 1.  $n\\ \\log_2(n)$:\n",
        "\n",
        "First, we will take the Lambert W-Function, which is defined as follows:\n",
        "\n",
        "\\begin{align*}\n",
        "    f(x) = x e^x \\ \\Rightarrow \\ f^{-1}(x) = W(x)\n",
        "\\end{align*}\n",
        "<br>\n",
        "\n",
        "That done, we can calculate the inverse of $n\\ \\log_2(n)$ as follows:\n",
        "\n",
        "\\begin{align*}\n",
        "   t &= n \\cdot \\log_2(n) \\\\[2mm]\n",
        "   n &= \\frac{t\\ln(2)}{W(t\\ln(2))}\n",
        "\\end{align*}\n",
        "<br>\n",
        "\n",
        "#### 2.  $n!$:\n",
        "\n",
        "We can use the Gamma function to calculate the factorial of any complex number:\n",
        "\n",
        "\\begin{align*}\n",
        "   \\Gamma &(n + 1) = n!\\\\[2mm]\n",
        "   \\Gamma &(z) = \\int_0^{\\infty} t^{z - 1} \\ e^{-z} dt\n",
        "\\end{align*}\n",
        "<br>\n",
        "\n",
        "Once the function is defined, we proceed to calculate a function that can approximate the inverse of the Gamma function.\n",
        "\n",
        "This is possible thanks to the following function: \n",
        "\n",
        "First, we take the first real root of the DiGamma function, which has a value of approximately $k = 1.461632145$\n",
        "\n",
        "Second, we define a value $c$ which will be a function of the constant $k$ defined above, this constant $c$ has the following form:  \n",
        "\n",
        "\\begin{align*}\n",
        "    c = \\frac{\\sqrt{2\\pi}}{e} - \\Gamma(k)\n",
        "\\end{align*}\n",
        "<br>\n",
        "\n",
        "Third, we define a new function called $L(x)$ which will have the following form: \n",
        "\n",
        "\\begin{align*}\n",
        "    L(x) = \\ln\\left( \\frac{x + c}{\\sqrt{2\\pi}}\\right)\n",
        "\\end{align*}\n",
        "<br>\n",
        "\n",
        "And finally, the approximation of the inverse Gamma function can be represented in the following way:\n",
        "\n",
        "\\begin{align*}\n",
        "    \\Gamma^{-1}(x) \\approx \\frac{L(x)}{W\\left( \\frac{L(x)}{e} \\right)} + \\frac{1}{2}\n",
        "\\end{align*}\n",
        "<br>\n",
        "\n",
        "With this, we can calculate the inverse of $n!$ in this way:\n",
        "\n",
        "\\begin{align*}\n",
        "    t &= n!\\\\[2mm]\n",
        "    n &= \\frac{L(t)}{W\\left( \\frac{L(t)}{e} \\right)} + \\frac{1}{2} - 1\n",
        "\\end{align*}\n",
        "<br>\n",
        "\n",
        "#### 3.  $n^n$:\n",
        "\n",
        "Having defined Lambert W-Function, the inverse function of $n^n$ can be obtained as follows:\n",
        "\n",
        "\\begin{align*}\n",
        "    t &= n^n\\\\[2mm]\n",
        "    n &= \\frac{\\ln(t)}{W(\\ln(t))}\n",
        "\\end{align*}\n",
        "<br>"
      ]
    },
    {
      "cell_type": "code",
      "execution_count": 2,
      "metadata": {
        "id": "HEw3yB524NO9"
      },
      "outputs": [],
      "source": [
        "# Importing the necesary libraries\n",
        "\n",
        "from scipy.special import *\n",
        "import numpy as np\n",
        "import math\n",
        "\n",
        "# Function to print in scientific notation:\n",
        "\n",
        "def print_sci(num: float) -> None:\n",
        "    scientific_notation = \"{:.3e}\".format(num)\n",
        "    print(scientific_notation)"
      ]
    },
    {
      "cell_type": "markdown",
      "metadata": {
        "id": "cFtakXZY4NO-"
      },
      "source": [
        "#### 1.  $n\\ \\log_2(n)$:"
      ]
    },
    {
      "cell_type": "code",
      "execution_count": 3,
      "metadata": {
        "colab": {
          "base_uri": "https://localhost:8080/"
        },
        "id": "-8mipZ5x4NO_",
        "outputId": "56281e02-889c-4b17-9b17-ab9b7b04eabe"
      },
      "outputs": [
        {
          "output_type": "stream",
          "name": "stdout",
          "text": [
            "3.962e+07\n",
            "1.944e+09\n",
            "9.857e+10\n",
            "2.110e+12\n",
            "6.412e+14\n",
            "5.667e+16\n",
            "5.355e+17\n"
          ]
        }
      ],
      "source": [
        "# Inverse n log_2(n):\n",
        "\n",
        "def inverse_nlog2n(t: \"time\") -> float:\n",
        "    total = t * 10 ** 9\n",
        "    return (total * math.log(2)) / lambertw(total * math.log(2)).real\n",
        "\n",
        "# Calculating n:\n",
        "\n",
        "print_sci(inverse_nlog2n(1))            # Second\n",
        "print_sci(inverse_nlog2n(60))           # Minute\n",
        "print_sci(inverse_nlog2n(3600))         # Hour\n",
        "print_sci(inverse_nlog2n(86400))        # Day\n",
        "print_sci(inverse_nlog2n(3.154e+7))     # Year\n",
        "print_sci(inverse_nlog2n(3.154e+9))     # Century\n",
        "print_sci(inverse_nlog2n(3.154e+10))    # Millenium"
      ]
    },
    {
      "cell_type": "markdown",
      "metadata": {
        "id": "gSpgxU7Y4NPA"
      },
      "source": [
        "#### 2.  $n!$:"
      ]
    },
    {
      "cell_type": "code",
      "execution_count": 4,
      "metadata": {
        "colab": {
          "base_uri": "https://localhost:8080/"
        },
        "id": "-mAmlT4H4NPB",
        "outputId": "2e5e4a2c-0436-4db2-cd0d-6c21b5b22670"
      },
      "outputs": [
        {
          "output_type": "stream",
          "name": "stdout",
          "text": [
            "12.288791367869349\n",
            "13.858956321516894\n",
            "15.366926508925907\n",
            "16.50227418718149\n",
            "18.543032016062554\n",
            "20.08521238455421\n",
            "20.841961444815784\n"
          ]
        }
      ],
      "source": [
        "# Inverse n!:\n",
        "\n",
        "def inverse_factorial(t: \"time\") -> float:\n",
        "    total = t * 10 ** 9\n",
        "\n",
        "    k = 1.46163214496836234126265954233\n",
        "\n",
        "    c = (np.sqrt(2 * np.pi) / np.e) - math.gamma(k)\n",
        "\n",
        "    def el(x: float) -> float:\n",
        "        return math.log((x + c) / (np.sqrt(2 * np.pi)))\n",
        "    \n",
        "    return ((el(total)) / (lambertw(el(total) / np.e)).real + 0.5 - 1)\n",
        "\n",
        "# Calculating n:\n",
        "\n",
        "print(inverse_factorial(1))            # Second\n",
        "print(inverse_factorial(60))           # Minute\n",
        "print(inverse_factorial(3600))         # Hour\n",
        "print(inverse_factorial(86400))        # Day\n",
        "print(inverse_factorial(3.154e+7))     # Year\n",
        "print(inverse_factorial(3.154e+9))     # Century\n",
        "print(inverse_factorial(3.154e+10))    # Millenium"
      ]
    },
    {
      "cell_type": "markdown",
      "metadata": {
        "id": "HkQ1EBmi4NPC"
      },
      "source": [
        "#### 3.  $n^n$:"
      ]
    },
    {
      "cell_type": "code",
      "execution_count": 5,
      "metadata": {
        "colab": {
          "base_uri": "https://localhost:8080/"
        },
        "id": "jwF6oi0D4NPD",
        "outputId": "5f5f213d-5940-4158-fcea-a558826b7dfb"
      },
      "outputs": [
        {
          "output_type": "stream",
          "name": "stdout",
          "text": [
            "9.295086900376218\n",
            "10.538223326509865\n",
            "11.73893549350388\n",
            "12.646790139125489\n",
            "14.285879312645033\n",
            "15.529980917178266\n",
            "16.1420086824216\n"
          ]
        }
      ],
      "source": [
        "# Inverse n^n:\n",
        "\n",
        "def inverse_n_n(t: \"time\") -> float:\n",
        "    total = t * 10 ** 9\n",
        "    return math.log(total) / lambertw(math.log(total)).real\n",
        "\n",
        "# Calculating n:\n",
        "\n",
        "print(inverse_n_n(1))            # Second\n",
        "print(inverse_n_n(60))           # Minute\n",
        "print(inverse_n_n(3600))         # Hour\n",
        "print(inverse_n_n(86400))        # Day\n",
        "print(inverse_n_n(3.154e+7))     # Year\n",
        "print(inverse_n_n(3.154e+9))     # Century\n",
        "print(inverse_n_n(3.154e+10))    # Millenium"
      ]
    }
  ],
  "metadata": {
    "colab": {
      "collapsed_sections": [],
      "name": "CormenSizeTimeComplexityGroup7.ipynb",
      "provenance": []
    },
    "kernelspec": {
      "display_name": "Python 3",
      "name": "python3"
    },
    "language_info": {
      "codemirror_mode": {
        "name": "ipython",
        "version": 3
      },
      "file_extension": ".py",
      "mimetype": "text/x-python",
      "name": "python",
      "nbconvert_exporter": "python",
      "pygments_lexer": "ipython3",
      "version": "3.10.0"
    }
  },
  "nbformat": 4,
  "nbformat_minor": 0
}