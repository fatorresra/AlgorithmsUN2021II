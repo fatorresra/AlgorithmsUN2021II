{
  "nbformat": 4,
  "nbformat_minor": 0,
  "metadata": {
    "colab": {
      "name": "group7ArithmeticSeriesGeometricSeriesPowerSums.ipynb",
      "provenance": [],
      "collapsed_sections": []
    },
    "kernelspec": {
      "name": "python3",
      "display_name": "Python 3"
    }
  },
  "cells": [
    {
      "cell_type": "markdown",
      "metadata": {
        "id": "r4rXWI4gCN5B"
      },
      "source": [
        "# Arithmetic Series\n",
        "\n",
        "## Modified from Arithmetic Series -  [Wolfram MathWorld](https://mathworld.wolfram.com/ArithmeticSeries.html) - [wikipedia](https://en.wikipedia.org/wiki/Arithmetic_progression)\n",
        "\n",
        "\n",
        "An arithmetic sequence $\\{a_k\\}$ for $k=1, 2, ..., $ in which each term is computed from the previous one by adding (or subtracting) a constant $d$. \n",
        "\n",
        "\\begin{align*}\n",
        "a_1 & \\\\\n",
        "a_2 &\\ \\ =\\ \\ a_1 + d  \\\\\n",
        "a_3 &\\ \\ =\\ \\ a_2 + d \\ \\ =\\ \\ a_1 + 2d   \\\\\n",
        "a_4 &\\ \\ =\\ \\ a_3 + d \\ \\ =\\ \\ a_2 + 2d \\ \\ =\\ \\ a_1 + 3d  \\\\\n",
        "\\vdots\\\\\n",
        "a_k &\\ \\ =\\ \\ a_{(k-1)}+d \\ =\\  a_{(k-2)}+2d \\ =\\  \\ldots \\ =\\  \\ a_1+(k-1)d\n",
        "\\end{align*}\n",
        "\n",
        "Therefore, for $k>=1$,\n",
        "\n",
        "$$ a_k = a_1 + (k-1)d$$\n",
        "\n",
        "With $a_1$ and $d$ given.\n",
        "\n",
        "<br /> \n",
        "\n",
        "The sequence of the partial sum of the first $n$ terms of a sequence is called a series, in the case of an arithemetic sequence the series is called an arithmetic series.\n",
        "\n",
        "If  $a_1= 1$ and $d=1$ we have, the simplest arithmnetic sequence,  the natural numbers sequence $\\{a_k = k \\}$ for  $k=1, 2, ..., $  i.e. the seuqnece\n",
        "$$1, 2, ...,$$\n",
        "The  corresponding series is \n",
        "$$ \n",
        "S_n = 1 + 2+ \\ldots + (n-1)+ n = \\sum_{k=1}^n k\n",
        "$$\n",
        "can be calculated as a function of $n$.\n",
        "\n",
        "Assume that we allign one $S_{n-1}$ with a second  $S_{n-1}$ that have the terms adden reverse order and you add term to term, we have\n",
        "\\begin{array}{llclclclclc}\n",
        "  S_{n-1} &=& 1 &+& 2 &+& \\ldots &+& (n-2) &+& (n-1) \\\\\n",
        "  S_{n-1} &=& (n-1)  &+& (n-2)  &+& \\ldots   &+& 2   &+& 1 \\\\\n",
        "   \\hline \\\\\n",
        "   2S_{n-1} &=& n  &+& n  &+& \\ldots   &+& n   &+& n \\\\\n",
        "\\end{array}\n",
        "so\n",
        "$$  2S_{n-1} = (n-1)n $$\n",
        "then\n",
        "$$  S_{n-1} = \\frac{1}{2} (n-1)n$$\n",
        "therefore \n",
        "$$  S_{n} = \\frac{1}{2} n(n+1)$$\n",
        "\n",
        "\n",
        "\\begin{align*}\n",
        "S_n &= \\sum_{k=1}^n a_k\t\\\\\n",
        "    &= \\sum_{k=1}^n[a_1+(k-1)d]\t\t\\\\\n",
        "    &= na_1 + d \\sum_{k=1}^n(k-1)\t\\\\\n",
        "    &= na_1 + d \\sum_{k=0}^{n-1} k\t\\\\\n",
        "    &= na_1 + d \\sum_{k=1}^{n-1} k\t\\\\\n",
        "    &= na_1 +  \\frac{1}{2} d(n-1)n\\\\\n",
        "\\end{align*}\n",
        "so \n",
        "$$ S_n =  \\frac{1}{2} n[2 a_1 +d(n-1)].$$\n",
        "\n",
        "Note, however, that\n",
        "$$a_1+a_n=a_1+[a_1+d(n-1)]=2a_1+d(n-1),$$ \t\n",
        "so\n",
        "$$S_n = \\frac{1}{2}n(a_1+a_n),$$\n",
        "\n",
        "\n",
        "or $n$ times the arithmetic mean of the first and last terms! This is the trick Gauss used as a schoolboy to solve the problem of summing the integers from $1$ to $100$ given as busy-work by his teacher. While his classmates toiled away doing the addition longhand, Gauss wrote a single number, the correct answer\n",
        "\n",
        "$$\\frac{1}{2}(100)(1+100)=50·101=5050$$ \t\n",
        "on his slate (Burton 1989, pp. 80-81; Hoffman 1998, p. 207). When the answers were examined, Gauss's proved to be the only correct one.\n",
        "\n",
        "<br /> \n",
        "\n",
        "If  the sequence starts at index $0$, $\\{a_k\\}$ for $ k=0, 1, 2, ..., $ we have\n",
        "\n",
        "\\begin{align*}\n",
        "a_0 & \\\\\n",
        "a_1 &\\ \\ =\\ \\ a_0 + d  \\\\\n",
        "a_2 &\\ \\ =\\ \\ a_1 + d \\ \\ =\\ \\ a_0 + 2d   \\\\\n",
        "a_3 &\\ \\ =\\ \\ a_2 + d \\ \\ =\\ \\ a_1 + 2d \\ \\ =\\ \\ a_0 + 3d  \\\\\n",
        "\\vdots\\\\\n",
        "a_k &\\ \\ =\\ \\ a_{(k-1)}+d \\ =\\  a_{(k-2)}+2d \\ =\\  \\ldots \\ = \\  \\ a_1+(k-1)d \\ \\ =\\ \\ a_0+kd\n",
        "\\end{align*}\n",
        "\n",
        "<br /> \n",
        "for given   $a_0$ and $d$.\n",
        "\n",
        "In this case the sum of the terms between $0$ and $n$ of  the arithemnetic sequence  is then given by\n",
        "\\begin{align*}\n",
        "S_n &= \\sum_{k=0}^{n} a_k\t\\\\\n",
        "    &= \\sum_{k=0}^{n}[a_0+kd]\t\t\\\\\n",
        "    &= (n+1) a_0 + d \\sum_{k=0}^{n} k\t\\\\\n",
        "    &= (n+1) a_0 + d \\sum_{k=1}^{} k\t\\\\\n",
        "    &=(n+1) a_0+  \\frac{1}{2} dn(n+1) \\\\\n",
        "\\end{align*}\n",
        "so \n",
        "$$ S_n =  \\frac{1}{2} (n+1)[2 a_0 + dn].$$\n",
        "<br /> \n",
        "$$ S_n =  \\frac{1}{2} (n+1)[a_0+ a_n].$$\n",
        "\n",
        "\n"
      ]
    },
    {
      "cell_type": "markdown",
      "metadata": {
        "id": "GfBh-QHRcods"
      },
      "source": [
        "### Code\n",
        "####  The simplest arithmetic sequence and series\n",
        "\n",
        "The simplest arithmnetic sequence is \n",
        "\n",
        "\n",
        "$$a_n = 1, 2, ...,$$"
      ]
    },
    {
      "cell_type": "markdown",
      "metadata": {
        "id": "n36eWqEXiktl"
      },
      "source": [
        "The following code plots the first $n = 15$ terms of the simplest arithmnetic sequence \n",
        "$$\\{a_n = n\\} \\text{ for } n =1,2,\\ldots  $$\n",
        "i.e\n",
        "$$\\{a_n = n\\} =1,2,\\ldots $$\n",
        "and the corresponding terms of the simplest arithmnetic series \n",
        "$$  S_n = 1 + 2+ \\ldots + (n-1)+ n = \\sum_{k=1}^n k=  \\frac{1}{2} n(n+1)$$\n"
      ]
    },
    {
      "cell_type": "markdown",
      "metadata": {
        "id": "_VyGiunIZknK"
      },
      "source": [
        "Plot"
      ]
    },
    {
      "cell_type": "code",
      "metadata": {
        "colab": {
          "base_uri": "https://localhost:8080/",
          "height": 282
        },
        "id": "gx3Q4uo-ONCi",
        "outputId": "e6f04e04-459f-4664-a050-5b9e589f546c"
      },
      "source": [
        "import matplotlib.pyplot as plt\n",
        "\n",
        "n = 15\n",
        "S_n = 0\n",
        "Serie_S_n=[]\n",
        "Sequence_a_n =[]\n",
        "for i in range(1,n+1):\n",
        "  S_n = S_n + i\n",
        "  Serie_S_n.append(S_n)\n",
        "  Sequence_a_n.append(i)\n",
        "\n",
        "\n",
        "plt.plot(Serie_S_n, color='black',label='Serie_S_n')\n",
        "plt.plot(Sequence_a_n, color='red',label='Sequence_a_n')\n",
        "plt.legend()\n"
      ],
      "execution_count": null,
      "outputs": [
        {
          "output_type": "execute_result",
          "data": {
            "text/plain": [
              "<matplotlib.legend.Legend at 0x7f594ac25a90>"
            ]
          },
          "metadata": {},
          "execution_count": 11
        },
        {
          "output_type": "display_data",
          "data": {
            "image/png": "[encoded data removed]",
            "text/plain": [
              "<Figure size 432x288 with 1 Axes>"
            ]
          },
          "metadata": {
            "needs_background": "light"
          }
        }
      ]
    },
    {
      "cell_type": "code",
      "metadata": {
        "colab": {
          "base_uri": "https://localhost:8080/"
        },
        "id": "o2es6b4cysQk",
        "outputId": "76ca97da-7c47-4f6b-8ec7-11a51ad2ff6c"
      },
      "source": [
        "Sequence_a_n"
      ],
      "execution_count": null,
      "outputs": [
        {
          "output_type": "execute_result",
          "data": {
            "text/plain": [
              "[1, 2, 3, 4, 5, 6, 7, 8, 9, 10, 11, 12, 13, 14, 15]"
            ]
          },
          "metadata": {},
          "execution_count": 2
        }
      ]
    },
    {
      "cell_type": "code",
      "metadata": {
        "colab": {
          "base_uri": "https://localhost:8080/"
        },
        "id": "T2VeBOBZ0ibg",
        "outputId": "7a70c6f5-7f69-4380-8270-4e822eda8a62"
      },
      "source": [
        "Serie_S_n"
      ],
      "execution_count": null,
      "outputs": [
        {
          "output_type": "execute_result",
          "data": {
            "text/plain": [
              "[1, 3, 6, 10, 15, 21, 28, 36, 45, 55, 66, 78, 91, 105, 120]"
            ]
          },
          "metadata": {},
          "execution_count": 3
        }
      ]
    },
    {
      "cell_type": "markdown",
      "metadata": {
        "id": "0ybfJdHxZGvW"
      },
      "source": [
        "The following code computes the  $n=10000000$  term of the airthmetic series\n",
        "$$  S_n = 1 + 2+ \\ldots + (n-1)+ n = \\sum_{k=1}^n =  \\frac{1}{2} n(n+1)$$"
      ]
    },
    {
      "cell_type": "code",
      "metadata": {
        "colab": {
          "base_uri": "https://localhost:8080/"
        },
        "id": "99xYHDQycnol",
        "outputId": "9e4eb642-3679-422d-b2a8-85a2ee6bad8a"
      },
      "source": [
        "n = 10000000\n",
        "S_n = 0\n",
        "for i in range(1,n+1):  # range(n+1) goes form 1 to n\n",
        "  S_n = S_n + i \n",
        "print(S_n)"
      ],
      "execution_count": null,
      "outputs": [
        {
          "output_type": "stream",
          "name": "stdout",
          "text": [
            "50000005000000\n"
          ]
        }
      ]
    },
    {
      "cell_type": "code",
      "metadata": {
        "colab": {
          "base_uri": "https://localhost:8080/"
        },
        "id": "RGCSuDGHeFwH",
        "outputId": "4b790085-cd3c-46e3-9d05-94d09a27fd34"
      },
      "source": [
        "(1/2)*n*(n+1)"
      ],
      "execution_count": null,
      "outputs": [
        {
          "output_type": "execute_result",
          "data": {
            "text/plain": [
              "50000005000000.0"
            ]
          },
          "metadata": {},
          "execution_count": 5
        }
      ]
    },
    {
      "cell_type": "markdown",
      "metadata": {
        "id": "bg8zxAhcecpk"
      },
      "source": [
        "The following code computes the $n=10000000$ term of the airthmetic series \n",
        "$$ S_n  = \\sum_{k=1}^n a_k$$\n",
        "\n",
        "<br /> \n",
        "for the airthmetic sequence $a_k = 10 + 3 (k-1) $ for $k=1,2,\\ldots$\n",
        "\n",
        "<br /> \n",
        "$$ 10,13,16,19,21,\\ldots$$\n"
      ]
    },
    {
      "cell_type": "markdown",
      "metadata": {
        "id": "hg3ixQ3bZiVh"
      },
      "source": [
        "Plot"
      ]
    },
    {
      "cell_type": "code",
      "metadata": {
        "colab": {
          "base_uri": "https://localhost:8080/"
        },
        "id": "w8FP1XqSgnie",
        "outputId": "8c5ade0c-8e78-4d2a-e00c-007e90691534"
      },
      "source": [
        "n = 10000000\n",
        "a = 10\n",
        "d = 3\n",
        "S_n = 0\n",
        "for i in range(1,n+1):  # range(n+19 goes form 1 to n\n",
        "  a_n = a + d * (i-1) \n",
        "  S_n = S_n + a_n\n",
        "print(S_n)"
      ],
      "execution_count": null,
      "outputs": [
        {
          "output_type": "stream",
          "name": "stdout",
          "text": [
            "150000085000000\n"
          ]
        }
      ]
    },
    {
      "cell_type": "code",
      "metadata": {
        "colab": {
          "base_uri": "https://localhost:8080/"
        },
        "id": "g_38RfB_hgg2",
        "outputId": "e234c3c3-ee3a-42d7-881c-317620ab7ec1"
      },
      "source": [
        "n*(2*a +d*(n-1))/2"
      ],
      "execution_count": null,
      "outputs": [
        {
          "output_type": "execute_result",
          "data": {
            "text/plain": [
              "150000085000000.0"
            ]
          },
          "metadata": {},
          "execution_count": 7
        }
      ]
    },
    {
      "cell_type": "code",
      "metadata": {
        "colab": {
          "base_uri": "https://localhost:8080/"
        },
        "id": "zS3qb_xE1u58",
        "outputId": "3a90e3cb-788b-49cc-db02-6b53b4d092d9"
      },
      "source": [
        "n*(a +a_n)/2"
      ],
      "execution_count": null,
      "outputs": [
        {
          "output_type": "execute_result",
          "data": {
            "text/plain": [
              "150000085000000.0"
            ]
          },
          "metadata": {
            "tags": []
          },
          "execution_count": 26
        }
      ]
    },
    {
      "cell_type": "code",
      "metadata": {
        "colab": {
          "base_uri": "https://localhost:8080/",
          "height": 285
        },
        "id": "7qesKez70zub",
        "outputId": "e34b3339-66a4-41ce-d84e-c8bd16c29604"
      },
      "source": [
        "import matplotlib.pyplot as plt\n",
        "\n",
        "n = 20\n",
        "a = 10\n",
        "d = 3\n",
        "S_n = 0\n",
        "Serie_S_n=[]\n",
        "Sequence_a_n =[]\n",
        "for i in range(1,n+1):  # range(n+19 goes form 1 to n\n",
        "  a_n = a + d * (i-1) \n",
        "  S_n = S_n + a_n\n",
        "  Serie_S_n.append(S_n)\n",
        "  Sequence_a_n.append(a_n)\n",
        "\n",
        "plt.plot(Serie_S_n, color='black',label='Serie_S_n')\n",
        "plt.plot(Sequence_a_n, color='red',label='Sequence_a_n')\n",
        "plt.legend()"
      ],
      "execution_count": null,
      "outputs": [
        {
          "output_type": "execute_result",
          "data": {
            "text/plain": [
              "<matplotlib.legend.Legend at 0x7f32f4b5cb10>"
            ]
          },
          "metadata": {},
          "execution_count": 1
        },
        {
          "output_type": "display_data",
          "data": {
            "image/png": "[encoded data removed]",
            "text/plain": [
              "<Figure size 432x288 with 1 Axes>"
            ]
          },
          "metadata": {
            "needs_background": "light"
          }
        }
      ]
    },
    {
      "cell_type": "markdown",
      "metadata": {
        "id": "r9qzONSlZq2q"
      },
      "source": [
        "## Your own example of arithmetic series \n",
        "\n"
      ]
    },
    {
      "cell_type": "markdown",
      "metadata": {
        "id": "rt6D7vrrcgIJ"
      },
      "source": [
        "### Lazy caterer's sequence\n",
        "\n",
        "Describes the maximum number of pieces of a disk (a pancake or pizza is usually used to describe the situation) that can be made with a given number of straight cuts \n",
        "\n",
        "The maximum number $p$ of pieces that can be created with a given number of cuts $n$, where $n ≥ 0$, is given by the formula\n",
        "\n",
        "$$ p = \\frac{n^2+n+2}{2}. $$\n",
        "\n",
        "Thus, the total number of pieces after n cuts is\n",
        "\n",
        "$$ f(n)=n+f(n-1). $$\n",
        "This recurrence relation can be solved. If f(n − 1) is expanded one term the relation becomes\n",
        "\n",
        "$$ f(n)=n+(n-1)+f(n-2).  $$\n",
        "Expansion of the term f(n − 2) can continue until the last term is reduced to f(0), thus,\n",
        "\n",
        "$$ f(n)=n+(n-1)+(n-2)+\\cdots +1+f(0).$$\n",
        "Since f(0) = 1, because there is one piece before any cuts are made, this can be rewritten as\n",
        "\n",
        "$$ f(n)=1+(1+2+3+\\cdots +n). $$\n",
        "This can be simplified, using the formula for the sum of an arithmetic progression:\n",
        "\n",
        "$$ f(n)=1+\\frac {n(n+1)}{2}=\\frac {n^{2}+n+2}{2} $$\n",
        "\n"
      ]
    },
    {
      "cell_type": "code",
      "metadata": {
        "id": "SrJ_dPxS0pwP",
        "colab": {
          "base_uri": "https://localhost:8080/"
        },
        "outputId": "c983fde7-aa6d-424a-fe08-59f80cbe3361"
      },
      "source": [
        "def fun(seq):\n",
        "  seq.append(seq[-1] + n)\n",
        "seq = [1]     # f(0) = 1\n",
        "for n in range(1,16):\n",
        "  fun(seq)\n",
        "\n",
        "print(seq)"
      ],
      "execution_count": null,
      "outputs": [
        {
          "output_type": "stream",
          "name": "stdout",
          "text": [
            "[1, 2, 4, 7, 11, 16, 22, 29, 37, 46, 56, 67, 79, 92, 106, 121]\n"
          ]
        }
      ]
    },
    {
      "cell_type": "code",
      "metadata": {
        "id": "MXkf9YuZhBgj",
        "colab": {
          "base_uri": "https://localhost:8080/"
        },
        "outputId": "ff53a15c-adbb-48ff-fd5c-aa1590f5cf79"
      },
      "source": [
        "def fun(seq):\n",
        "  seq.append(seq[-1] + n)\n",
        "seq = [2]     # f(0) = 2\n",
        "for n in range(1,10):\n",
        "  fun(seq)\n",
        "\n",
        "print(seq)"
      ],
      "execution_count": 90,
      "outputs": [
        {
          "output_type": "stream",
          "name": "stdout",
          "text": [
            "[2, 3, 5, 8, 12, 17, 23, 30, 38, 47]\n"
          ]
        }
      ]
    },
    {
      "cell_type": "markdown",
      "metadata": {
        "id": "AKWJ1F7hac8T"
      },
      "source": [
        "# Geometric Series\n",
        "\n",
        "## Modified from Geometric Series -  [Wolfram MathWorld](https://mathworld.wolfram.com/GeometricSeries.html) - [wikipedia](https://en.wikipedia.org/wiki/Geometric_series)\n"
      ]
    },
    {
      "cell_type": "markdown",
      "metadata": {
        "id": "W5zx_-nR81GI"
      },
      "source": [
        "An geometric series is the sum of a sequence $\\{a_k\\}$ for $k=1, 2, ..., $ in which each term is computed from the previous one by adding (or subtracting) a constant $d$. \n",
        "\n",
        "\\begin{align*}\n",
        "a_0 &\\ \\ =\\ \\ r^0 \\ \\ =\\ \\ 1\\\\\n",
        "a_1 &\\ \\ =\\ \\ a_0 *  r \\ \\ =\\ \\  r\\\\\n",
        "a_2 &\\ \\ =\\ \\ a_1 * r\\ \\ =\\ \\ a_0 * r^2  \\ \\ =\\ \\ r^2 \\\\\n",
        "a_3 &\\ \\ =\\ \\ a_2 * r \\ \\ =\\ \\ a_0 * r^3 \\ \\ =\\ \\  r^3  \\\\\n",
        "a_4 &\\ \\ =\\ \\ a_3 * r\\ \\  =\\ \\ a_0 * r^4 \\ \\  =\\ \\ r^4  \\\\\n",
        "\\vdots\\\\\n",
        "a_k &\\ \\ =\\ \\ a_{(k-1)}* r \\ =\\   a_0 * r^k \\ \\  =\\ \\  r^k\n",
        "\\end{align*}\n",
        "\n",
        "The sum of the first $n$ terms  of  the geometric sequence (called an geometric serie)  is then given by\n",
        "$$\n",
        "\\begin{array}{ll}\n",
        "S_n &=  1 + r + r^2 + \\cdots + r^{n-1} +r^n \\\\\n",
        " &=  (1 + r + r^2 + \\cdots + r^{n-1} ) +r^n \\\\\n",
        " &= S_{n-1}  +r^n \n",
        "\\end{array}\n",
        "$$\n",
        "\n",
        "$$\n",
        "\\begin{array}{ll}\n",
        "S_n &=  1 + r + r^2 + \\cdots + r^{n-1} +r^n \\\\\n",
        " &=  1 + (r + r^2 + \\cdots + r^{n-1}  +r^n)  \\\\\n",
        " &=   1 + r (1 +  r  + r^2 + \\cdots + r^{n-1} )  \\\\\n",
        "  &=   1 + r   S_{n-1} \n",
        "\\end{array}\n",
        "$$\n",
        "\n",
        "Then\n",
        "$$\n",
        " S_{n-1}  +r^n =   1 + r   S_{n-1} \n",
        "$$\n",
        "\n",
        "Therefore\n",
        "$$\n",
        " S_{n-1} (1 -r) =   1 - r^n \n",
        "$$\n",
        "\n",
        "$$\n",
        " S_{n-1}   =   \\frac{1 - r^n }{1 -r}\n",
        "$$\n",
        "\n",
        "$$\n",
        " S_{n}   =   \\frac{1 - r^{n+1} }{1 -r}  = \\frac{ r^{n+1} - 1}{r -1}\n",
        "$$\n"
      ]
    },
    {
      "cell_type": "markdown",
      "metadata": {
        "id": "CDUYfT8k8crr"
      },
      "source": [
        "## Nodes in Complete Binary Tree with $L=0,1,2,\\cdots , L-1$ levels \n",
        "\n",
        "![](https://raw.githubusercontent.com/gjhernandezp/algorithms/master/Lab7/ComBinTree.png)\n",
        "\n",
        "In a complete binary tree you have in ecah level $k =0,1,2,\\cdots $  $ 2^k $\n",
        "\n",
        "$$\n",
        "\\begin{array}{ll}\n",
        "\\text {Level } 0 \\rightarrow 2^0 = 1 \\text { node (root)} \\\\\n",
        "\\text {Level } 1 \\rightarrow 2^1 = 2 \\text { nodes} \\\\\n",
        "\\text {Level } 2 \\rightarrow 2^2 = 4 \\text { nodes} \\\\\n",
        "\\text {Level } 3 \\rightarrow 2^3 = 8 \\text { nodes} \\\\\n",
        "\\vdots\\\\\n",
        "\\text {Level } k \\rightarrow 2^k  \\text { nodes} \\\\\n",
        "\\end{array}\n",
        "$$\n",
        "\n",
        "nodes, with $l = 0,1,2, ... $ the level\n",
        "\n",
        "Total number of the complte tree with $L=0,1,2,\\cdots , L-1$ levels\n",
        "\n",
        "$$ \n",
        "2^0 + 2^1 + 2^2 + \\cdots +2^{L-1}  = 1 + 2 + 4 + \\cdots +2^{L-1} = \\sum_{k=0}^{L-1} 2^k = \\frac{ 2^{L} - 1}{2 -1} = 2^{L} - 1\n",
        "$$"
      ]
    },
    {
      "cell_type": "markdown",
      "metadata": {
        "id": "Xy-usdcnYE5H"
      },
      "source": [
        "# Ejemplo\n",
        "$$\n",
        " S_{n}    = a\\frac { r^{n+1} - 1}{r -1}\n",
        "$$\n",
        "\n",
        "$$\n",
        " S_{100}  =1/3\\frac{ (2/3)^{100+1} - 1}{(2/3) -1} = 1\n",
        "$$\n"
      ]
    },
    {
      "cell_type": "code",
      "metadata": {
        "colab": {
          "base_uri": "https://localhost:8080/"
        },
        "id": "T6QoMpq_b8GE",
        "outputId": "c8b8b175-24b3-4e26-bd78-863cd9feaff5"
      },
      "source": [
        "r=2/3\n",
        "a=1/3\n",
        "n=100\n",
        "Sn=a*((r**(n+1))-1)/(r-1)\n",
        "print(Sn)"
      ],
      "execution_count": 20,
      "outputs": [
        {
          "output_type": "stream",
          "name": "stdout",
          "text": [
            "0.9999999999999999\n"
          ]
        }
      ]
    },
    {
      "cell_type": "code",
      "metadata": {
        "colab": {
          "base_uri": "https://localhost:8080/"
        },
        "id": "vICFgCcmj9he",
        "outputId": "f0e600cc-496a-45ef-deb3-879b92fa3957"
      },
      "source": [
        "s=0\n",
        "n=100\n",
        "a=1/3\n",
        "r=2/3\n",
        "for i in range(n):\n",
        "  s+=a*r**i\n",
        "  print(i+1,s)"
      ],
      "execution_count": 41,
      "outputs": [
        {
          "output_type": "stream",
          "name": "stdout",
          "text": [
            "1 0.3333333333333333\n",
            "2 0.5555555555555556\n",
            "3 0.7037037037037037\n",
            "4 0.8024691358024691\n",
            "5 0.868312757201646\n",
            "6 0.9122085048010973\n",
            "7 0.9414723365340648\n",
            "8 0.9609815576893765\n",
            "9 0.973987705126251\n",
            "10 0.9826584700841673\n",
            "11 0.9884389800561115\n",
            "12 0.992292653370741\n",
            "13 0.9948617689138274\n",
            "14 0.9965745126092183\n",
            "15 0.9977163417394789\n",
            "16 0.9984775611596526\n",
            "17 0.9989850407731017\n",
            "18 0.9993233605154012\n",
            "19 0.9995489070102674\n",
            "20 0.9996992713401783\n",
            "21 0.9997995142267856\n",
            "22 0.9998663428178571\n",
            "23 0.9999108952119048\n",
            "24 0.9999405968079366\n",
            "25 0.9999603978719578\n",
            "26 0.9999735985813052\n",
            "27 0.9999823990542035\n",
            "28 0.9999882660361357\n",
            "29 0.9999921773574239\n",
            "30 0.9999947849049493\n",
            "31 0.9999965232699662\n",
            "32 0.9999976821799775\n",
            "33 0.9999984547866517\n",
            "34 0.9999989698577678\n",
            "35 0.9999993132385119\n",
            "36 0.9999995421590079\n",
            "37 0.9999996947726719\n",
            "38 0.9999997965151146\n",
            "39 0.9999998643434097\n",
            "40 0.9999999095622731\n",
            "41 0.9999999397081821\n",
            "42 0.9999999598054548\n",
            "43 0.9999999732036365\n",
            "44 0.9999999821357577\n",
            "45 0.9999999880905052\n",
            "46 0.9999999920603369\n",
            "47 0.9999999947068913\n",
            "48 0.9999999964712609\n",
            "49 0.9999999976475074\n",
            "50 0.9999999984316716\n",
            "51 0.9999999989544478\n",
            "52 0.9999999993029652\n",
            "53 0.9999999995353102\n",
            "54 0.9999999996902068\n",
            "55 0.9999999997934712\n",
            "56 0.9999999998623141\n",
            "57 0.9999999999082094\n",
            "58 0.9999999999388063\n",
            "59 0.9999999999592042\n",
            "60 0.9999999999728028\n",
            "61 0.9999999999818685\n",
            "62 0.9999999999879123\n",
            "63 0.9999999999919416\n",
            "64 0.9999999999946277\n",
            "65 0.9999999999964185\n",
            "66 0.9999999999976124\n",
            "67 0.9999999999984083\n",
            "68 0.9999999999989388\n",
            "69 0.9999999999992926\n",
            "70 0.9999999999995284\n",
            "71 0.9999999999996856\n",
            "72 0.9999999999997904\n",
            "73 0.9999999999998602\n",
            "74 0.9999999999999069\n",
            "75 0.9999999999999379\n",
            "76 0.9999999999999586\n",
            "77 0.9999999999999724\n",
            "78 0.9999999999999816\n",
            "79 0.9999999999999877\n",
            "80 0.9999999999999918\n",
            "81 0.9999999999999946\n",
            "82 0.9999999999999963\n",
            "83 0.9999999999999976\n",
            "84 0.9999999999999983\n",
            "85 0.9999999999999989\n",
            "86 0.9999999999999992\n",
            "87 0.9999999999999994\n",
            "88 0.9999999999999996\n",
            "89 0.9999999999999997\n",
            "90 0.9999999999999998\n",
            "91 0.9999999999999998\n",
            "92 0.9999999999999998\n",
            "93 0.9999999999999998\n",
            "94 0.9999999999999998\n",
            "95 0.9999999999999998\n",
            "96 0.9999999999999998\n",
            "97 0.9999999999999998\n",
            "98 0.9999999999999998\n",
            "99 0.9999999999999998\n",
            "100 0.9999999999999998\n"
          ]
        }
      ]
    },
    {
      "cell_type": "code",
      "metadata": {
        "colab": {
          "base_uri": "https://localhost:8080/"
        },
        "id": "5u6DOFZWlONj",
        "outputId": "a70a7919-81f1-4ff8-ee15-0fd11828e8d3"
      },
      "source": [
        "s=0\n",
        "n=100\n",
        "a=1\n",
        "r=1/2\n",
        "for i in range(n):\n",
        "  s+=a*r**i\n",
        "  print(i+1,s)"
      ],
      "execution_count": 40,
      "outputs": [
        {
          "output_type": "stream",
          "name": "stdout",
          "text": [
            "1 1.0\n",
            "2 1.5\n",
            "3 1.75\n",
            "4 1.875\n",
            "5 1.9375\n",
            "6 1.96875\n",
            "7 1.984375\n",
            "8 1.9921875\n",
            "9 1.99609375\n",
            "10 1.998046875\n",
            "11 1.9990234375\n",
            "12 1.99951171875\n",
            "13 1.999755859375\n",
            "14 1.9998779296875\n",
            "15 1.99993896484375\n",
            "16 1.999969482421875\n",
            "17 1.9999847412109375\n",
            "18 1.9999923706054688\n",
            "19 1.9999961853027344\n",
            "20 1.9999980926513672\n",
            "21 1.9999990463256836\n",
            "22 1.9999995231628418\n",
            "23 1.999999761581421\n",
            "24 1.9999998807907104\n",
            "25 1.9999999403953552\n",
            "26 1.9999999701976776\n",
            "27 1.9999999850988388\n",
            "28 1.9999999925494194\n",
            "29 1.9999999962747097\n",
            "30 1.9999999981373549\n",
            "31 1.9999999990686774\n",
            "32 1.9999999995343387\n",
            "33 1.9999999997671694\n",
            "34 1.9999999998835847\n",
            "35 1.9999999999417923\n",
            "36 1.9999999999708962\n",
            "37 1.999999999985448\n",
            "38 1.999999999992724\n",
            "39 1.999999999996362\n",
            "40 1.999999999998181\n",
            "41 1.9999999999990905\n",
            "42 1.9999999999995453\n",
            "43 1.9999999999997726\n",
            "44 1.9999999999998863\n",
            "45 1.9999999999999432\n",
            "46 1.9999999999999716\n",
            "47 1.9999999999999858\n",
            "48 1.999999999999993\n",
            "49 1.9999999999999964\n",
            "50 1.9999999999999982\n",
            "51 1.9999999999999991\n",
            "52 1.9999999999999996\n",
            "53 1.9999999999999998\n",
            "54 2.0\n",
            "55 2.0\n",
            "56 2.0\n",
            "57 2.0\n",
            "58 2.0\n",
            "59 2.0\n",
            "60 2.0\n",
            "61 2.0\n",
            "62 2.0\n",
            "63 2.0\n",
            "64 2.0\n",
            "65 2.0\n",
            "66 2.0\n",
            "67 2.0\n",
            "68 2.0\n",
            "69 2.0\n",
            "70 2.0\n",
            "71 2.0\n",
            "72 2.0\n",
            "73 2.0\n",
            "74 2.0\n",
            "75 2.0\n",
            "76 2.0\n",
            "77 2.0\n",
            "78 2.0\n",
            "79 2.0\n",
            "80 2.0\n",
            "81 2.0\n",
            "82 2.0\n",
            "83 2.0\n",
            "84 2.0\n",
            "85 2.0\n",
            "86 2.0\n",
            "87 2.0\n",
            "88 2.0\n",
            "89 2.0\n",
            "90 2.0\n",
            "91 2.0\n",
            "92 2.0\n",
            "93 2.0\n",
            "94 2.0\n",
            "95 2.0\n",
            "96 2.0\n",
            "97 2.0\n",
            "98 2.0\n",
            "99 2.0\n",
            "100 2.0\n"
          ]
        }
      ]
    },
    {
      "cell_type": "markdown",
      "metadata": {
        "id": "YiWlrhLZNMX9"
      },
      "source": [
        "### Code"
      ]
    },
    {
      "cell_type": "code",
      "metadata": {
        "id": "YvMkYU8UNOll",
        "colab": {
          "base_uri": "https://localhost:8080/"
        },
        "outputId": "9d009bc9-1995-4821-df46-a43dfbb59757"
      },
      "source": [
        "level = 8\n",
        "print(\"El nivel del árbol es de\",level)\n",
        "print(\"La cantidad de nodos para dicho árbol es de \",2**level)"
      ],
      "execution_count": 10,
      "outputs": [
        {
          "output_type": "stream",
          "name": "stdout",
          "text": [
            "El nivel del árbol es de 8\n",
            "La cantidad de nodos para dicho árbol es de  256\n"
          ]
        }
      ]
    },
    {
      "cell_type": "markdown",
      "metadata": {
        "id": "Dd3RWDwJe2xD"
      },
      "source": [
        "## Zenon Arrow\n",
        "\n",
        "![](https://raw.githubusercontent.com/gjhernandezp/algorithms/master/Lab7/zeno-paradox-arrow.png)\n",
        "\n",
        "https://leseditionsdeschavonnes.com/2018/10/15/the-paradox-of-achilles-and-the-tortoise/\n",
        "\n",
        "\n",
        "\n",
        "$$ \n",
        "\\lim_{n\\rightarrow \\infty} \\left\\{\\left(\\frac{1}{2}\\right)^0 + \\left(\\frac{1}{2}\\right)^1 +\\left(\\frac{1}{2}\\right)^2 + \\cdots +\\left(\\frac{1}{2}\\right)^{n} \\right\\} = \\lim_{n\\rightarrow \\infty} \\left\\{ 1 +\\frac{1}{2} + \\frac{1}{4} + \\frac{1}{8} + \\cdots +\\frac{1}{2^{n}}\\right\\}  = \\lim_{n\\rightarrow \\infty} \\sum_{k=0}^{n} \\left(\\frac{1}{2}\\right)^k = \\lim_{n\\rightarrow \\infty} \\frac{ 1- \\left(\\frac{1}{2}\\right)^n  }{1 - \\left(\\frac{1}{2}\\right) } = \\frac{ 1}{1 - \\left(\\frac{1}{2}\\right)} = 2\n",
        "$$"
      ]
    },
    {
      "cell_type": "markdown",
      "metadata": {
        "id": "R-J4EekBNPkd"
      },
      "source": [
        "### Code"
      ]
    },
    {
      "cell_type": "code",
      "metadata": {
        "id": "8xdBovY3NEW_",
        "colab": {
          "base_uri": "https://localhost:8080/"
        },
        "outputId": "618cc454-e9f9-4ddc-9042-a33f3ab995d2"
      },
      "source": [
        "s = 0\n",
        "for i in range(100):\n",
        "    s += (1/2)**(i)\n",
        "print(s)"
      ],
      "execution_count": 42,
      "outputs": [
        {
          "output_type": "stream",
          "name": "stdout",
          "text": [
            "2.0\n"
          ]
        }
      ]
    },
    {
      "cell_type": "code",
      "metadata": {
        "colab": {
          "base_uri": "https://localhost:8080/"
        },
        "id": "bDmTGrtCxZUJ",
        "outputId": "44d9daf6-ed1c-40f1-f716-1ebdf9d65aa4"
      },
      "source": [
        "s = 0\n",
        "for i in range(10):\n",
        "    s += (1/2)**(i)\n",
        "print(s)"
      ],
      "execution_count": 84,
      "outputs": [
        {
          "output_type": "stream",
          "name": "stdout",
          "text": [
            "1.998046875\n"
          ]
        }
      ]
    },
    {
      "cell_type": "markdown",
      "metadata": {
        "id": "dh2ntBeoNQlN"
      },
      "source": [
        "# Power Sums Power Sums - [Wolfram MathWorld](https://mathworld.wolfram.com/PowerSum.html) - [wikipedia](https://en.wikipedia.org/wiki/Sums_of_powers) - [reserachgate](https://www.researchgate.net/publication/331933608_The_Powers_Sums_Bernoulli_Numbers_Bernoulli_Polynomials_Rethinked)\n",
        "\n"
      ]
    },
    {
      "cell_type": "markdown",
      "metadata": {
        "id": "vPMPQm5-q5Ed"
      },
      "source": [
        "There are two kinds of power sums commonly considered. The first is the sum of pth powers of a set of n variables $x_k$,\n",
        "\n",
        "$S_{p}(x_{1}, ..., x_{n}) = \\sum_{n}^{k=1}x_{k}^{p})$\n",
        "\n",
        "nd the second is the special case $x_k=k$, i.e.,\n",
        "\n",
        "$S_{p}(n)= \\sum_{n}^{k=1}k^{p})$\n",
        "\n",
        "General power sums arise commonly in statistics. For example, k-statistics are most commonly defined in terms of power sums. Power sums are related to symmetric polynomials by the Newton-Girard formulas.\n",
        "\n",
        "The sum of k times the kth power of x is given analytically by\n",
        "\n",
        "$\\sum_{k=0}^{n}kx^{k} = \\frac{x-(n+1)x^{n+1}+nx^{n+2}}{(x-1)^{2}}$\n",
        "\n",
        "Other analytic sums include\n",
        "\n",
        "$(\\sum_{k=0}^{\\infty} x^{k})^{p} = (1-x)^{-p}$\n",
        "\n",
        "$= \\frac{1}{(p-1)!} \\sum_{n=0}^{\\infty}(n+1)_{p-1}x^{n}$\n",
        "\n",
        "for $|x|<1$, where $(n)_p$ is a Pochhammer symbol. The finite version has the elegant closed form\n",
        "\n",
        "$(\\sum_{k=0}^{\\infty} x^{k})^{p} = \\frac{1}{(p-1)!} \\sum_{k=0}^{np} \\frac{(n-|n-k|+p-1)!}{(n-|n-k|)!}x^{k}$\n",
        "\n",
        "for $p=1$ and 2. An additional sum is given by\n",
        "\n",
        "$(\\sum_{n=0}^{\\infty} a_{n}x^{n})^{2} = \\sum_{n=0}^{\\infty} a_{n}^{2}x^{2n} + 2 \\sum_{n=1}^{\\infty}a_{i}a_{j}x^{n}$\n",
        "\n",
        "An analytic solution for a sum of powers of integers is\n",
        "\n",
        "$S_{p}(n) = \\sum_{k=1}^{n}k^{p} = H_{n}^{-p}$\n",
        "\n",
        "Bernoulli used the property of the figurate number triangle that\n",
        "\n",
        "$\\sum_{i=0}^{n}a_{ij} = \\frac{(n+1)a_{nj}}{j+1}$\n",
        "\n",
        "along with a form for a_(nj) which he derived inductively to compute the sums up to n=10 (Boyer 1968, p. 85). For p in $Z>0$, the sum is given by\n",
        "\n",
        "$\\sum_{k=1}^{n}k^{p} = \\frac{(B + n + 1)^{(p+1)}-B^{(p+1)}}{p+1}$\n",
        "\n",
        "where the notation $B^k$ means the quantity in question is raised to the appropriate power k, and all terms of the form $B^m$ are replaced with the corresponding Bernoulli numbers $B_m$. Written explicitly in terms of a sum of powers,\n",
        "\n",
        "$\\sum_{k=1}^{n} k^{p} = \\sum_{k=1}^{p+1}b_{pk}n^{k}$\n",
        "\n",
        "where\n",
        "\n",
        "$b_{pk} = \\frac{(-1)^{p-k+1}B_{p-k+1}p!}{k!(p-k+1)!}$\n",
        "\n",
        "It is also true that the coefficients of the terms b_(pk) sum to 1,\n",
        "\n",
        "$\\sum_{k=1}^{p+1}b_{pk}=1$\n",
        "\n",
        "which Bernoulli stated without proof.\n",
        "\n",
        "A double series solution for $S_p(n)$ is given by\n",
        "\n",
        "$S_{p}(n) = \\sum_{i=1}^{p} \\sum_{j=0}^{i-1}(-1)^{j} (i-j)^{p} \\binom{n+p-i+1}{n-i}\\binom{p+1}{j}$"
      ]
    },
    {
      "cell_type": "code",
      "metadata": {
        "colab": {
          "base_uri": "https://localhost:8080/",
          "height": 301
        },
        "id": "nC7H-ZtDwx9C",
        "outputId": "36178b4f-c624-4092-9fea-658078232149"
      },
      "source": [
        "import matplotlib.pyplot as plt\n",
        "Sn = 0\n",
        "SSn = []\n",
        "San = []\n",
        "p=2\n",
        "n=10\n",
        "\n",
        "for i in range(1, n+1):\n",
        "    Sn += i**(p)\n",
        "    SSn.append(Sn)\n",
        "    San.append(i**(p))\n",
        "\n",
        "print(Sn)\n",
        "\n",
        "plt.plot(SSn, color='black',label='Serie_S_n')\n",
        "plt.plot(San, color='red',label='Sequence_a_n')\n",
        "plt.legend()"
      ],
      "execution_count": 83,
      "outputs": [
        {
          "output_type": "stream",
          "name": "stdout",
          "text": [
            "385\n"
          ]
        },
        {
          "output_type": "execute_result",
          "data": {
            "text/plain": [
              "<matplotlib.legend.Legend at 0x7f4a35a09e10>"
            ]
          },
          "metadata": {},
          "execution_count": 83
        },
        {
          "output_type": "display_data",
          "data": {
            "image/png": "[encoded data removed]",
            "text/plain": [
              "<Figure size 432x288 with 1 Axes>"
            ]
          },
          "metadata": {
            "needs_background": "light"
          }
        }
      ]
    },
    {
      "cell_type": "code",
      "metadata": {
        "id": "2PyxzzOZVIdl",
        "colab": {
          "base_uri": "https://localhost:8080/",
          "height": 310
        },
        "outputId": "e423e8b0-039a-49e7-be93-f2a4a15b2a5b"
      },
      "source": [
        "import matplotlib.pyplot as plt\n",
        "Sn = 0\n",
        "SSn = []\n",
        "San = []\n",
        "p=5\n",
        "n=100\n",
        "\n",
        "for i in range(1, n+1):\n",
        "    Sn += i**(p)\n",
        "    SSn.append(Sn)\n",
        "    San.append(i**(p))\n",
        "\n",
        "print(Sn)\n",
        "\n",
        "plt.plot(SSn, color='black',label='Serie_S_n')\n",
        "plt.plot(San, color='red',label='Sequence_a_n')\n",
        "plt.legend()"
      ],
      "execution_count": 82,
      "outputs": [
        {
          "output_type": "stream",
          "name": "stdout",
          "text": [
            "171708332500\n"
          ]
        },
        {
          "output_type": "execute_result",
          "data": {
            "text/plain": [
              "<matplotlib.legend.Legend at 0x7f4a35aea5d0>"
            ]
          },
          "metadata": {},
          "execution_count": 82
        },
        {
          "output_type": "display_data",
          "data": {
            "image/png": "[encoded data removed]",
            "text/plain": [
              "<Figure size 432x288 with 1 Axes>"
            ]
          },
          "metadata": {
            "needs_background": "light"
          }
        }
      ]
    }
  ]
}