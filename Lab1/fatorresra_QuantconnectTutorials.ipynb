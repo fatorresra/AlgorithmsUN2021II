{
  "nbformat": 4,
  "nbformat_minor": 0,
  "metadata": {
    "colab": {
      "name": "fatorresra_QuantconnectTutorials.ipynb",
      "provenance": [],
      "collapsed_sections": [
        "YMuRBdAte0K2",
        "cxC4Am_1mhD_",
        "yvSCjeLcnLyC",
        "ngo47Wyoyqeg",
        "dGjP515RoGpL",
        "AgBY0I-loufj",
        "BC_Y5W0spFnh",
        "p_s2NozGpkER",
        "FcEs1v8npthJ",
        "NNV2Mv6vq8Zh",
        "ckmC2-QAtXKA",
        "fRwiBEPcwPIr",
        "OHwF7u-2xSDD",
        "XqIQpd7byYwO",
        "9SmQqjDgiuSK",
        "ZQBRjxlE2WeX",
        "raPJ5UbX2auC",
        "t0dHx5YE2f9I",
        "goehGqtc5gOi",
        "SmY3S_cD58Po",
        "HHADPHZM7Zbf",
        "uE1xcIV74NAO",
        "g5vPruaoC2f-",
        "w8iYaXc6C33m",
        "PaIWgzeID0-h",
        "-QG8FWT8Fg4u",
        "MQk7chxuC50r",
        "OF3rmX_UMRRu",
        "CxqdQQqwVu1S",
        "IZfOq6CCa89X"
      ]
    },
    "kernelspec": {
      "name": "python3",
      "display_name": "Python 3"
    },
    "language_info": {
      "name": "python"
    }
  },
  "cells": [
    {
      "cell_type": "markdown",
      "metadata": {
        "id": "YMuRBdAte0K2"
      },
      "source": [
        "# 01 – Python: Data Types and Data Structures\n"
      ]
    },
    {
      "cell_type": "markdown",
      "metadata": {
        "id": "cxC4Am_1mhD_"
      },
      "source": [
        "## Basic Variable Types"
      ]
    },
    {
      "cell_type": "markdown",
      "metadata": {
        "id": "yvSCjeLcnLyC"
      },
      "source": [
        "### Strings"
      ]
    },
    {
      "cell_type": "code",
      "metadata": {
        "colab": {
          "base_uri": "https://localhost:8080/"
        },
        "id": "kDdX9NnsnRS4",
        "outputId": "e0ccaf35-7bcf-44f1-a4bc-1c6a6f1167fc"
      },
      "source": [
        "my_string1 = 'Welcome to'\n",
        "my_string2 = \"QuantConnect\"\n",
        "print(my_string1 + ' ' + my_string2)"
      ],
      "execution_count": 2,
      "outputs": [
        {
          "output_type": "stream",
          "name": "stdout",
          "text": [
            "Welcome to QuantConnect\n"
          ]
        }
      ]
    },
    {
      "cell_type": "code",
      "metadata": {
        "colab": {
          "base_uri": "https://localhost:8080/"
        },
        "id": "0v3R5lAhnUAQ",
        "outputId": "118093fd-899b-4db7-bebd-9107b848e607"
      },
      "source": [
        "my_string1 = 'Salutaciones'\n",
        "my_string2 = \"mundo\"\n",
        "print(my_string1 + ' ' + my_string2)"
      ],
      "execution_count": 3,
      "outputs": [
        {
          "output_type": "stream",
          "name": "stdout",
          "text": [
            "Salutaciones mundo\n"
          ]
        }
      ]
    },
    {
      "cell_type": "markdown",
      "metadata": {
        "id": "ngo47Wyoyqeg"
      },
      "source": [
        "### Integers"
      ]
    },
    {
      "cell_type": "code",
      "metadata": {
        "colab": {
          "base_uri": "https://localhost:8080/"
        },
        "id": "Ls6S6rTXno1L",
        "outputId": "90a5b688-41db-4286-9858-1543023c12b1"
      },
      "source": [
        "my_int = 10\n",
        "print(my_int)\n",
        "print(type(my_int))"
      ],
      "execution_count": 4,
      "outputs": [
        {
          "output_type": "stream",
          "name": "stdout",
          "text": [
            "10\n",
            "<class 'int'>\n"
          ]
        }
      ]
    },
    {
      "cell_type": "code",
      "metadata": {
        "colab": {
          "base_uri": "https://localhost:8080/"
        },
        "id": "pHHFVFSyn5LL",
        "outputId": "432453fd-6c88-4cb9-ce78-42f660b5c45c"
      },
      "source": [
        "our_int = 144\n",
        "print(our_int)\n",
        "print(type(our_int))"
      ],
      "execution_count": 8,
      "outputs": [
        {
          "output_type": "stream",
          "name": "stdout",
          "text": [
            "144\n",
            "<class 'int'>\n"
          ]
        }
      ]
    },
    {
      "cell_type": "markdown",
      "metadata": {
        "id": "dGjP515RoGpL"
      },
      "source": [
        "### ```int()``` Function"
      ]
    },
    {
      "cell_type": "code",
      "metadata": {
        "colab": {
          "base_uri": "https://localhost:8080/"
        },
        "id": "e5P1DjByoR-h",
        "outputId": "e332a55e-16db-4981-b5e1-c9c2656e9bb2"
      },
      "source": [
        "my_string = \"100\"\n",
        "print(type(my_string))\n",
        "my_int = int(my_string)\n",
        "print(type(my_int))"
      ],
      "execution_count": 9,
      "outputs": [
        {
          "output_type": "stream",
          "name": "stdout",
          "text": [
            "<class 'str'>\n",
            "<class 'int'>\n"
          ]
        }
      ]
    },
    {
      "cell_type": "code",
      "metadata": {
        "colab": {
          "base_uri": "https://localhost:8080/"
        },
        "id": "ft0S9mXEoWTg",
        "outputId": "4b78a05e-0404-4efe-be31-c8c1d011200e"
      },
      "source": [
        "our_string = \"12\"\n",
        "print(type(our_string))\n",
        "our_int = int(our_string)\n",
        "print(type(our_string))"
      ],
      "execution_count": 11,
      "outputs": [
        {
          "output_type": "stream",
          "name": "stdout",
          "text": [
            "<class 'str'>\n",
            "<class 'str'>\n"
          ]
        }
      ]
    },
    {
      "cell_type": "markdown",
      "metadata": {
        "id": "AgBY0I-loufj"
      },
      "source": [
        "### Floats"
      ]
    },
    {
      "cell_type": "code",
      "metadata": {
        "colab": {
          "base_uri": "https://localhost:8080/"
        },
        "id": "tzkwoJIMo0Th",
        "outputId": "d348ab18-ab7f-44fc-9454-e5ee4d4877a1"
      },
      "source": [
        "my_float = 1.0\n",
        "print(type(my_float))\n",
        "my_int = 1\n",
        "print(type(my_int))"
      ],
      "execution_count": 12,
      "outputs": [
        {
          "output_type": "stream",
          "name": "stdout",
          "text": [
            "<class 'float'>\n",
            "<class 'int'>\n"
          ]
        }
      ]
    },
    {
      "cell_type": "code",
      "metadata": {
        "colab": {
          "base_uri": "https://localhost:8080/"
        },
        "id": "zhu4QXgmo2qA",
        "outputId": "62bef98e-3b4e-4b21-8f37-26252ad7df18"
      },
      "source": [
        "our_float = 12.0\n",
        "print(type(our_float))\n",
        "our_int = 12\n",
        "print(type(our_int))"
      ],
      "execution_count": 13,
      "outputs": [
        {
          "output_type": "stream",
          "name": "stdout",
          "text": [
            "<class 'float'>\n",
            "<class 'int'>\n"
          ]
        }
      ]
    },
    {
      "cell_type": "markdown",
      "metadata": {
        "id": "BC_Y5W0spFnh"
      },
      "source": [
        "### ```float()``` Function"
      ]
    },
    {
      "cell_type": "code",
      "metadata": {
        "colab": {
          "base_uri": "https://localhost:8080/"
        },
        "id": "aPnm_JnOpVbd",
        "outputId": "287f2aec-4a91-45f2-92eb-cda0abc22417"
      },
      "source": [
        "my_string = \"100\"\n",
        "my_float = float(my_string)\n",
        "print(type(my_float))"
      ],
      "execution_count": 14,
      "outputs": [
        {
          "output_type": "stream",
          "name": "stdout",
          "text": [
            "<class 'float'>\n"
          ]
        }
      ]
    },
    {
      "cell_type": "code",
      "metadata": {
        "colab": {
          "base_uri": "https://localhost:8080/"
        },
        "id": "Lmw29FhDpafa",
        "outputId": "0c70f4db-969f-4f91-ac2f-a5988ad46d53"
      },
      "source": [
        "our_string = \"3.1415\"\n",
        "our_float = float(our_string)\n",
        "print(type(our_float))"
      ],
      "execution_count": 15,
      "outputs": [
        {
          "output_type": "stream",
          "name": "stdout",
          "text": [
            "<class 'float'>\n"
          ]
        }
      ]
    },
    {
      "cell_type": "markdown",
      "metadata": {
        "id": "p_s2NozGpkER"
      },
      "source": [
        "### Booleans"
      ]
    },
    {
      "cell_type": "code",
      "metadata": {
        "colab": {
          "base_uri": "https://localhost:8080/"
        },
        "id": "cz7adljaplOU",
        "outputId": "8ea3491a-5e2e-4828-dd22-02a062eb2f3f"
      },
      "source": [
        "my_bool = False\n",
        "print(my_bool)\n",
        "print(type(my_bool))"
      ],
      "execution_count": 16,
      "outputs": [
        {
          "output_type": "stream",
          "name": "stdout",
          "text": [
            "False\n",
            "<class 'bool'>\n"
          ]
        }
      ]
    },
    {
      "cell_type": "code",
      "metadata": {
        "colab": {
          "base_uri": "https://localhost:8080/"
        },
        "id": "7YIoEFA-pnMy",
        "outputId": "8fc6a55d-93ee-4f50-ed52-57d9ad33058a"
      },
      "source": [
        "our_bool = True\n",
        "print(our_bool)\n",
        "print(type(our_bool))"
      ],
      "execution_count": 18,
      "outputs": [
        {
          "output_type": "stream",
          "name": "stdout",
          "text": [
            "True\n",
            "<class 'bool'>\n"
          ]
        }
      ]
    },
    {
      "cell_type": "markdown",
      "metadata": {
        "id": "FcEs1v8npthJ"
      },
      "source": [
        "## Basic Math Operations"
      ]
    },
    {
      "cell_type": "code",
      "metadata": {
        "colab": {
          "base_uri": "https://localhost:8080/"
        },
        "id": "zk-F_Lt0qHJo",
        "outputId": "640008ec-c88d-40e5-a7e3-ee42b3d50353"
      },
      "source": [
        "print(\"Addition \", 1+1)\n",
        "print(\"Subtraction \", 5-2)\n",
        "print(\"Multiplication \", 2*3)\n",
        "print(\"Division\", 10/2)\n",
        "print(\"exponent\", 2**3)"
      ],
      "execution_count": 20,
      "outputs": [
        {
          "output_type": "stream",
          "name": "stdout",
          "text": [
            "Addition  2\n",
            "Subtraction  3\n",
            "Multiplication  6\n",
            "Division 5.0\n",
            "exponent 8\n"
          ]
        }
      ]
    },
    {
      "cell_type": "code",
      "metadata": {
        "colab": {
          "base_uri": "https://localhost:8080/"
        },
        "id": "T3rwCtd8qX5S",
        "outputId": "d4364684-6f4e-41a8-9737-6eb91c19ce81"
      },
      "source": [
        "print('Addition:', 10 + 15)\n",
        "print('Substraction:', 10 - 15)\n",
        "print('Multiplication:', 10 * 15)\n",
        "print('Division:', 10 / 15)\n",
        "print('Exponentiation:', 10 ** 15)"
      ],
      "execution_count": 24,
      "outputs": [
        {
          "output_type": "stream",
          "name": "stdout",
          "text": [
            "Addition: 25\n",
            "Substraction: -5\n",
            "Multiplication: 150\n",
            "Division: 0.6666666666666666\n",
            "Exponentiation: 1000000000000000\n"
          ]
        }
      ]
    },
    {
      "cell_type": "markdown",
      "metadata": {
        "id": "hh9IJmZ9q4BQ"
      },
      "source": [
        "## Data Collections"
      ]
    },
    {
      "cell_type": "markdown",
      "metadata": {
        "id": "NNV2Mv6vq8Zh"
      },
      "source": [
        "### Lists"
      ]
    },
    {
      "cell_type": "code",
      "metadata": {
        "colab": {
          "base_uri": "https://localhost:8080/"
        },
        "id": "yuusEmZQq-Ca",
        "outputId": "9fe5aab1-dcc5-447f-e09e-5f9b3cbf75c2"
      },
      "source": [
        "my_list = ['Quant', 'Connect', 1,2,3]\n",
        "print(my_list)"
      ],
      "execution_count": 25,
      "outputs": [
        {
          "output_type": "stream",
          "name": "stdout",
          "text": [
            "['Quant', 'Connect', 1, 2, 3]\n"
          ]
        }
      ]
    },
    {
      "cell_type": "code",
      "metadata": {
        "colab": {
          "base_uri": "https://localhost:8080/"
        },
        "id": "WzeO-ed8rF-M",
        "outputId": "98b10b03-c21d-4039-e2a9-c2d32d87b150"
      },
      "source": [
        "our_list = [4, 5, 6, 'Me', 'You']\n",
        "print(our_list)"
      ],
      "execution_count": 27,
      "outputs": [
        {
          "output_type": "stream",
          "name": "stdout",
          "text": [
            "[4, 5, 6, 'Me', 'You']\n"
          ]
        }
      ]
    },
    {
      "cell_type": "code",
      "metadata": {
        "colab": {
          "base_uri": "https://localhost:8080/"
        },
        "id": "LXHtN8bxrlSK",
        "outputId": "a916f24e-2c6c-42cd-eafb-127c27e07bf3"
      },
      "source": [
        "my_list = ['Quant', 'Connect', 1,2,3]\n",
        "print(len(my_list))\n",
        "print(my_list[0])\n",
        "print(my_list[len(my_list) - 1])"
      ],
      "execution_count": 28,
      "outputs": [
        {
          "output_type": "stream",
          "name": "stdout",
          "text": [
            "5\n",
            "Quant\n",
            "3\n"
          ]
        }
      ]
    },
    {
      "cell_type": "code",
      "metadata": {
        "colab": {
          "base_uri": "https://localhost:8080/"
        },
        "id": "FdsVq6nFrobJ",
        "outputId": "6fcfca15-c2cc-4891-8ed6-c7ff956e93fc"
      },
      "source": [
        "our_list = [4, 5, 6, 'Me', 'You']\n",
        "print(len(our_list))\n",
        "print(our_list[3])\n",
        "print(our_list[len(our_list) - 3])"
      ],
      "execution_count": 32,
      "outputs": [
        {
          "output_type": "stream",
          "name": "stdout",
          "text": [
            "5\n",
            "Me\n",
            "6\n"
          ]
        }
      ]
    },
    {
      "cell_type": "code",
      "metadata": {
        "colab": {
          "base_uri": "https://localhost:8080/"
        },
        "id": "Y978NW63sOP1",
        "outputId": "f4131a89-cea1-4b0e-d2b4-c00ec38f3e9d"
      },
      "source": [
        "my_list = ['Quant','Connect',1,2,3]\n",
        "my_list[2] = 'go'\n",
        "print(my_list)"
      ],
      "execution_count": 33,
      "outputs": [
        {
          "output_type": "stream",
          "name": "stdout",
          "text": [
            "['Quant', 'Connect', 'go', 2, 3]\n"
          ]
        }
      ]
    },
    {
      "cell_type": "code",
      "metadata": {
        "colab": {
          "base_uri": "https://localhost:8080/"
        },
        "id": "ghPMKLSRsRmv",
        "outputId": "7dba000d-30b0-4e2c-88a8-597755ac35e7"
      },
      "source": [
        "our_list = [4, 5, 6, 'Me', 'You']\n",
        "our_list[3] = 7\n",
        "print(our_list)"
      ],
      "execution_count": 34,
      "outputs": [
        {
          "output_type": "stream",
          "name": "stdout",
          "text": [
            "[4, 5, 6, 7, 'You']\n"
          ]
        }
      ]
    },
    {
      "cell_type": "code",
      "metadata": {
        "colab": {
          "base_uri": "https://localhost:8080/"
        },
        "id": "1Y-c0mkDsf2S",
        "outputId": "61604dc5-304d-4b70-b6c7-b14eaabe34ad"
      },
      "source": [
        "my_list = ['Quant','Connect',1,2,3]\n",
        "print(my_list[1:3])"
      ],
      "execution_count": 35,
      "outputs": [
        {
          "output_type": "stream",
          "name": "stdout",
          "text": [
            "['Connect', 1]\n"
          ]
        }
      ]
    },
    {
      "cell_type": "code",
      "metadata": {
        "colab": {
          "base_uri": "https://localhost:8080/"
        },
        "id": "s1SCb4_WskD4",
        "outputId": "6d53a1b8-0443-4255-cb19-12250e01ec89"
      },
      "source": [
        "our_list = [4, 5, 6, 'Me', 'You']\n",
        "print(our_list[0:len(our_list) - 2])"
      ],
      "execution_count": 36,
      "outputs": [
        {
          "output_type": "stream",
          "name": "stdout",
          "text": [
            "[4, 5, 6]\n"
          ]
        }
      ]
    },
    {
      "cell_type": "code",
      "metadata": {
        "colab": {
          "base_uri": "https://localhost:8080/"
        },
        "id": "VlOucvlcsvqa",
        "outputId": "d6e083f8-72df-4dd1-8c55-dbf3d1275edd"
      },
      "source": [
        "print(my_list[1:])"
      ],
      "execution_count": 37,
      "outputs": [
        {
          "output_type": "stream",
          "name": "stdout",
          "text": [
            "['Connect', 1, 2, 3]\n"
          ]
        }
      ]
    },
    {
      "cell_type": "code",
      "metadata": {
        "colab": {
          "base_uri": "https://localhost:8080/"
        },
        "id": "ijmQnI87swmq",
        "outputId": "f006bfdf-d892-4c8b-a12c-ec39b172b428"
      },
      "source": [
        "print(our_list[3:])"
      ],
      "execution_count": 38,
      "outputs": [
        {
          "output_type": "stream",
          "name": "stdout",
          "text": [
            "['Me', 'You']\n"
          ]
        }
      ]
    },
    {
      "cell_type": "code",
      "metadata": {
        "colab": {
          "base_uri": "https://localhost:8080/"
        },
        "id": "qitXWI05s5JJ",
        "outputId": "02ceb0e5-9976-495a-ae18-2e97a7095841"
      },
      "source": [
        "print(my_list[:3])"
      ],
      "execution_count": 39,
      "outputs": [
        {
          "output_type": "stream",
          "name": "stdout",
          "text": [
            "['Quant', 'Connect', 1]\n"
          ]
        }
      ]
    },
    {
      "cell_type": "code",
      "metadata": {
        "colab": {
          "base_uri": "https://localhost:8080/"
        },
        "id": "t-K78Xv5s54C",
        "outputId": "c5b78c9b-45d0-4b6b-8085-c1e1b98c508a"
      },
      "source": [
        "print(our_list[:3])"
      ],
      "execution_count": 40,
      "outputs": [
        {
          "output_type": "stream",
          "name": "stdout",
          "text": [
            "[4, 5, 6]\n"
          ]
        }
      ]
    },
    {
      "cell_type": "code",
      "metadata": {
        "colab": {
          "base_uri": "https://localhost:8080/"
        },
        "id": "8zI7SXS_s-nc",
        "outputId": "2dd25916-69f8-467e-fbcf-11aeb98bd6dd"
      },
      "source": [
        "my_list = ['Hello', 'Quant']\n",
        "my_list.append('Hello')\n",
        "print(my_list)\n",
        "my_list.remove('Hello')\n",
        "print(my_list)"
      ],
      "execution_count": 41,
      "outputs": [
        {
          "output_type": "stream",
          "name": "stdout",
          "text": [
            "['Hello', 'Quant', 'Hello']\n",
            "['Quant', 'Hello']\n"
          ]
        }
      ]
    },
    {
      "cell_type": "code",
      "metadata": {
        "colab": {
          "base_uri": "https://localhost:8080/"
        },
        "id": "L30RhDqRtAvB",
        "outputId": "7d35dc70-3720-4cda-bcd8-90bba9d98637"
      },
      "source": [
        "our_list = [1, 2, 3.5, 6]\n",
        "our_list.append(5**2)\n",
        "print(our_list)\n",
        "our_list.remove(7/2)\n",
        "print(our_list)"
      ],
      "execution_count": 43,
      "outputs": [
        {
          "output_type": "stream",
          "name": "stdout",
          "text": [
            "[1, 2, 3.5, 6, 25]\n",
            "[1, 2, 6, 25]\n"
          ]
        }
      ]
    },
    {
      "cell_type": "markdown",
      "metadata": {
        "id": "ckmC2-QAtXKA"
      },
      "source": [
        "### Tuples"
      ]
    },
    {
      "cell_type": "code",
      "metadata": {
        "id": "MYWDuD5Av1tr"
      },
      "source": [
        "my_tuple = ('Welcome','to','QuantConnect')"
      ],
      "execution_count": 44,
      "outputs": []
    },
    {
      "cell_type": "code",
      "metadata": {
        "colab": {
          "base_uri": "https://localhost:8080/"
        },
        "id": "ofnP3uTOv3sh",
        "outputId": "e9975ff3-9b3a-4332-cc72-c63a35a22cdd"
      },
      "source": [
        "our_tuple = ('3', '.14', '15')\n",
        "print(our_tuple)"
      ],
      "execution_count": 45,
      "outputs": [
        {
          "output_type": "stream",
          "name": "stdout",
          "text": [
            "('3', '.14', '15')\n"
          ]
        }
      ]
    },
    {
      "cell_type": "code",
      "metadata": {
        "colab": {
          "base_uri": "https://localhost:8080/"
        },
        "id": "HTcUFw2jwCbp",
        "outputId": "416f7f06-2b5b-481e-df53-4aa9dcd55984"
      },
      "source": [
        "my_tuple = ('Welcome','to','QuantConnect')\n",
        "print(my_tuple[1:])"
      ],
      "execution_count": 46,
      "outputs": [
        {
          "output_type": "stream",
          "name": "stdout",
          "text": [
            "('to', 'QuantConnect')\n"
          ]
        }
      ]
    },
    {
      "cell_type": "code",
      "metadata": {
        "colab": {
          "base_uri": "https://localhost:8080/"
        },
        "id": "Rp_P8w4CwDci",
        "outputId": "c54b0279-15de-4783-88ae-fed067475c64"
      },
      "source": [
        "our_tuple = ('3', '.14', '15')\n",
        "print(our_tuple[2])"
      ],
      "execution_count": 47,
      "outputs": [
        {
          "output_type": "stream",
          "name": "stdout",
          "text": [
            "15\n"
          ]
        }
      ]
    },
    {
      "cell_type": "markdown",
      "metadata": {
        "id": "fRwiBEPcwPIr"
      },
      "source": [
        "### Sets"
      ]
    },
    {
      "cell_type": "code",
      "metadata": {
        "colab": {
          "base_uri": "https://localhost:8080/"
        },
        "id": "yOYVS1TEwRO4",
        "outputId": "7e80131e-cf3d-466f-e01e-d647b0fde19c"
      },
      "source": [
        "stock_list = ['AAPL','GOOG','IBM','AAPL','IBM','FB','F','GOOG']\n",
        "stock_set = set(stock_list)\n",
        "print(stock_set)"
      ],
      "execution_count": 48,
      "outputs": [
        {
          "output_type": "stream",
          "name": "stdout",
          "text": [
            "{'FB', 'IBM', 'F', 'AAPL', 'GOOG'}\n"
          ]
        }
      ]
    },
    {
      "cell_type": "code",
      "metadata": {
        "colab": {
          "base_uri": "https://localhost:8080/"
        },
        "id": "WQRn920lwXfI",
        "outputId": "6e4ce132-29e6-4b78-a9cd-0b6e77da0165"
      },
      "source": [
        "number_list = [1, 2, 3, 4, 5, 6, 7, 8, 9, 0, 1, 2, 1.0, 4/2, 3**2]\n",
        "number_set = set(number_list)\n",
        "print(number_set)"
      ],
      "execution_count": 49,
      "outputs": [
        {
          "output_type": "stream",
          "name": "stdout",
          "text": [
            "{0, 1, 2, 3, 4, 5, 6, 7, 8, 9}\n"
          ]
        }
      ]
    },
    {
      "cell_type": "markdown",
      "metadata": {
        "id": "OHwF7u-2xSDD"
      },
      "source": [
        "### Dictionary"
      ]
    },
    {
      "cell_type": "code",
      "metadata": {
        "id": "83FhTzNGxU5i"
      },
      "source": [
        "my_dic = {'AAPL': 'Apple', 'FB': 'FaceBook', 'GOOG': 'Alphabet'}"
      ],
      "execution_count": 50,
      "outputs": []
    },
    {
      "cell_type": "code",
      "metadata": {
        "id": "BviEgpXvxboB"
      },
      "source": [
        "our_dic = {1 : 'one', 2 : 'two', 3 : 'three', 6: 'six'}"
      ],
      "execution_count": 55,
      "outputs": []
    },
    {
      "cell_type": "code",
      "metadata": {
        "colab": {
          "base_uri": "https://localhost:8080/"
        },
        "id": "FyFjzwtPx4xz",
        "outputId": "f19c9032-8533-4d72-ae49-52d88861b168"
      },
      "source": [
        "print(my_dic['GOOG'])"
      ],
      "execution_count": 56,
      "outputs": [
        {
          "output_type": "stream",
          "name": "stdout",
          "text": [
            "Alphabet\n"
          ]
        }
      ]
    },
    {
      "cell_type": "code",
      "metadata": {
        "colab": {
          "base_uri": "https://localhost:8080/"
        },
        "id": "ERVYkYYmx6mq",
        "outputId": "534bf6c0-2e67-46da-a307-574e221895e0"
      },
      "source": [
        "print(our_dic[2])"
      ],
      "execution_count": 57,
      "outputs": [
        {
          "output_type": "stream",
          "name": "stdout",
          "text": [
            "two\n"
          ]
        }
      ]
    },
    {
      "cell_type": "code",
      "metadata": {
        "colab": {
          "base_uri": "https://localhost:8080/"
        },
        "id": "v8WiiGwGyBSS",
        "outputId": "643682a4-0bad-4442-d464-0f0c5bea7354"
      },
      "source": [
        "my_dic['GOOG'] = 'Alphabet Company'\n",
        "print(my_dic['GOOG'])"
      ],
      "execution_count": 58,
      "outputs": [
        {
          "output_type": "stream",
          "name": "stdout",
          "text": [
            "Alphabet Company\n"
          ]
        }
      ]
    },
    {
      "cell_type": "code",
      "metadata": {
        "colab": {
          "base_uri": "https://localhost:8080/"
        },
        "id": "bGVBpcSmyCSP",
        "outputId": "86a54d3a-6078-4b26-d32d-52d105faa3bd"
      },
      "source": [
        "our_dic[6] = 'two times three'\n",
        "print(our_dic[6])"
      ],
      "execution_count": 59,
      "outputs": [
        {
          "output_type": "stream",
          "name": "stdout",
          "text": [
            "two times three\n"
          ]
        }
      ]
    },
    {
      "cell_type": "code",
      "metadata": {
        "colab": {
          "base_uri": "https://localhost:8080/"
        },
        "id": "pYUh83_7yV-3",
        "outputId": "09084838-3983-4edd-9abd-82c8b2752df9"
      },
      "source": [
        "print(my_dic.keys())"
      ],
      "execution_count": 60,
      "outputs": [
        {
          "output_type": "stream",
          "name": "stdout",
          "text": [
            "dict_keys(['AAPL', 'FB', 'GOOG'])\n"
          ]
        }
      ]
    },
    {
      "cell_type": "code",
      "metadata": {
        "colab": {
          "base_uri": "https://localhost:8080/"
        },
        "id": "BUQpuzyRyWr2",
        "outputId": "44073d31-e204-4005-e736-2b7c9cb99e33"
      },
      "source": [
        "print(our_dic.keys())"
      ],
      "execution_count": 61,
      "outputs": [
        {
          "output_type": "stream",
          "name": "stdout",
          "text": [
            "dict_keys([1, 2, 3, 6])\n"
          ]
        }
      ]
    },
    {
      "cell_type": "markdown",
      "metadata": {
        "id": "XqIQpd7byYwO"
      },
      "source": [
        "## Common String Operators"
      ]
    },
    {
      "cell_type": "code",
      "metadata": {
        "colab": {
          "base_uri": "https://localhost:8080/"
        },
        "id": "7pyt-b1XyhAg",
        "outputId": "fd097a1e-ba0d-4c34-d592-e90df7a9c0be"
      },
      "source": [
        "my_str = 'Welcome to QuantConnect'\n",
        "print(my_str[8:])"
      ],
      "execution_count": 62,
      "outputs": [
        {
          "output_type": "stream",
          "name": "stdout",
          "text": [
            "to QuantConnect\n"
          ]
        }
      ]
    },
    {
      "cell_type": "code",
      "metadata": {
        "colab": {
          "base_uri": "https://localhost:8080/"
        },
        "id": "eRrTIEjxyv1i",
        "outputId": "700cde20-8ff0-45cb-d807-7e312ea74907"
      },
      "source": [
        "our_str = 'Hello dear World'\n",
        "print(our_str[:5])"
      ],
      "execution_count": 63,
      "outputs": [
        {
          "output_type": "stream",
          "name": "stdout",
          "text": [
            "Hello\n"
          ]
        }
      ]
    },
    {
      "cell_type": "code",
      "metadata": {
        "colab": {
          "base_uri": "https://localhost:8080/"
        },
        "id": "an7gvjruz1Bl",
        "outputId": "2ee1dc6b-b6f3-486b-c7ce-06d4190d916c"
      },
      "source": [
        "print(\"Counting the number of e's in this sentence\".count('e'))\n",
        "print('The first time e appears in this sentence'.find('e'))\n",
        "print('all the a in this sentence now becomes e'.replace('a','e'))"
      ],
      "execution_count": 64,
      "outputs": [
        {
          "output_type": "stream",
          "name": "stdout",
          "text": [
            "6\n",
            "2\n",
            "ell the e in this sentence now becomes e\n"
          ]
        }
      ]
    },
    {
      "cell_type": "code",
      "metadata": {
        "colab": {
          "base_uri": "https://localhost:8080/"
        },
        "id": "So-MVABlz5do",
        "outputId": "18f8636e-ca20-42be-8c25-bbb5d64654ce"
      },
      "source": [
        "print('The quick brown fox jumps over the lazy dog'.count('a'))\n",
        "print('The quick brown fox jumps over the lazy dog'.find('x'))\n",
        "print('The quick brown fox jumps over the lazy dog'.replace('o', '0'))"
      ],
      "execution_count": 65,
      "outputs": [
        {
          "output_type": "stream",
          "name": "stdout",
          "text": [
            "1\n",
            "18\n",
            "The quick br0wn f0x jumps 0ver the lazy d0g\n"
          ]
        }
      ]
    },
    {
      "cell_type": "code",
      "metadata": {
        "colab": {
          "base_uri": "https://localhost:8080/"
        },
        "id": "btvoi1Dk0OPY",
        "outputId": "c82bee85-3f17-47ef-f99e-47fd5cb46f62"
      },
      "source": [
        "Time = '2016-04-01 09:43:00'\n",
        "splited_list = Time.split(' ')\n",
        "date = splited_list[0]\n",
        "time = splited_list[1]\n",
        "print(date, time)\n",
        "hour = time.split(':')[0]\n",
        "print(hour)"
      ],
      "execution_count": 66,
      "outputs": [
        {
          "output_type": "stream",
          "name": "stdout",
          "text": [
            "2016-04-01 09:43:00\n",
            "09\n"
          ]
        }
      ]
    },
    {
      "cell_type": "code",
      "metadata": {
        "colab": {
          "base_uri": "https://localhost:8080/"
        },
        "id": "yDvJeROL0Qx6",
        "outputId": "cfb4b453-5b42-49ca-ab5d-e81af3f7ff02"
      },
      "source": [
        "pi = '3.1415926535'\n",
        "split_pi = pi.split('.')\n",
        "integer = split_pi[0]\n",
        "decimal = split_pi[1]\n",
        "print(integer, decimal)\n",
        "short_pi = pi.split('9')[0]\n",
        "print(short_pi)"
      ],
      "execution_count": 68,
      "outputs": [
        {
          "output_type": "stream",
          "name": "stdout",
          "text": [
            "3 1415926535\n",
            "3.1415\n"
          ]
        }
      ]
    },
    {
      "cell_type": "code",
      "metadata": {
        "colab": {
          "base_uri": "https://localhost:8080/"
        },
        "id": "lQtGDLMZ1CRz",
        "outputId": "949eec99-bfdc-455b-c6b8-d12d32047270"
      },
      "source": [
        "my_time = 'Hour: {}, Minute: {}'.format(9, 43)\n",
        "print(my_time)"
      ],
      "execution_count": 69,
      "outputs": [
        {
          "output_type": "stream",
          "name": "stdout",
          "text": [
            "Hour: 9, Minute: 43\n"
          ]
        }
      ]
    },
    {
      "cell_type": "code",
      "metadata": {
        "colab": {
          "base_uri": "https://localhost:8080/"
        },
        "id": "fdyieiZ51D0y",
        "outputId": "af1c75a6-05a9-4c65-a439-8d4a76789d2f"
      },
      "source": [
        "our_day = 'It is {} {}th today.'.format('October', 19)\n",
        "print(our_day)"
      ],
      "execution_count": 71,
      "outputs": [
        {
          "output_type": "stream",
          "name": "stdout",
          "text": [
            "It is October 19th today.\n"
          ]
        }
      ]
    },
    {
      "cell_type": "code",
      "metadata": {
        "colab": {
          "base_uri": "https://localhost:8080/"
        },
        "id": "7JWbhLW11n4g",
        "outputId": "1dd91371-3150-4cc0-a7db-f4fd383f125f"
      },
      "source": [
        "print('pi is %f' % 3.14)\n",
        "print('%s to %s' % ('Welcome', 'QuantConnect'))"
      ],
      "execution_count": 73,
      "outputs": [
        {
          "output_type": "stream",
          "name": "stdout",
          "text": [
            "pi is 3.140000\n",
            "Welcome to QuantConnect\n"
          ]
        }
      ]
    },
    {
      "cell_type": "code",
      "metadata": {
        "colab": {
          "base_uri": "https://localhost:8080/"
        },
        "id": "0cPI9IKC1vT4",
        "outputId": "a1282833-e46b-4803-9c8f-32b592a62c48"
      },
      "source": [
        "print('Order no. %05d' % 5)"
      ],
      "execution_count": 75,
      "outputs": [
        {
          "output_type": "stream",
          "name": "stdout",
          "text": [
            "Order no. 00005\n"
          ]
        }
      ]
    },
    {
      "cell_type": "markdown",
      "metadata": {
        "id": "9SmQqjDgiuSK"
      },
      "source": [
        "# 02 – Python: Logical Operations and Loops"
      ]
    },
    {
      "cell_type": "markdown",
      "metadata": {
        "id": "ZQBRjxlE2WeX"
      },
      "source": [
        "## Logical Operations"
      ]
    },
    {
      "cell_type": "code",
      "metadata": {
        "colab": {
          "base_uri": "https://localhost:8080/"
        },
        "id": "A_Y-3hRj2kjG",
        "outputId": "ea4f3318-dd69-4d58-9b3c-562d10723c70"
      },
      "source": [
        "print(1 == 0)    # 1 equals 0\n",
        "print(1 == 1)    # 1 equals 1\n",
        "print(1 != 0)    # 1 is not equal to 0\n",
        "print(5 >= 5)    # 5 is greater than or equal to 5\n",
        "print(5 >= 6)    # 5 is greater than or equal to 6"
      ],
      "execution_count": 77,
      "outputs": [
        {
          "output_type": "stream",
          "name": "stdout",
          "text": [
            "False\n",
            "True\n",
            "True\n",
            "True\n",
            "False\n"
          ]
        }
      ]
    },
    {
      "cell_type": "code",
      "metadata": {
        "colab": {
          "base_uri": "https://localhost:8080/"
        },
        "id": "mgFvl2qm2u6p",
        "outputId": "f9efc595-92b6-4d44-b20b-72ad4fa420ca"
      },
      "source": [
        "print(2 + 2 == 4)"
      ],
      "execution_count": 78,
      "outputs": [
        {
          "output_type": "stream",
          "name": "stdout",
          "text": [
            "True\n"
          ]
        }
      ]
    },
    {
      "cell_type": "code",
      "metadata": {
        "colab": {
          "base_uri": "https://localhost:8080/"
        },
        "id": "CpDQ1DWj2_aZ",
        "outputId": "1dafcc9f-0c4e-494e-8c10-4048734e3e87"
      },
      "source": [
        "print(2 > 1 and 3 > 2)\n",
        "print(2 > 1 and 3 < 2)\n",
        "print(2 > 1 or  3 < 2)\n",
        "print(2 < 1 and 3 < 2)"
      ],
      "execution_count": 79,
      "outputs": [
        {
          "output_type": "stream",
          "name": "stdout",
          "text": [
            "True\n",
            "False\n",
            "True\n",
            "False\n"
          ]
        }
      ]
    },
    {
      "cell_type": "code",
      "metadata": {
        "colab": {
          "base_uri": "https://localhost:8080/"
        },
        "id": "rrg1mTTt3Nao",
        "outputId": "1591dc87-19ab-4411-ac00-af995aba3d25"
      },
      "source": [
        "print(not 1 > 2)\n",
        "print(1 > 2 and 2 < 1)\n",
        "print((not 1 > 2) and (not 2 < 1))\n",
        "print(1 == 1 or 1 == 0)"
      ],
      "execution_count": 83,
      "outputs": [
        {
          "output_type": "stream",
          "name": "stdout",
          "text": [
            "True\n",
            "False\n",
            "True\n",
            "True\n"
          ]
        }
      ]
    },
    {
      "cell_type": "code",
      "metadata": {
        "colab": {
          "base_uri": "https://localhost:8080/"
        },
        "id": "2ojaU0h73vsR",
        "outputId": "c343a779-3030-41c7-bf76-4748344e93d9"
      },
      "source": [
        "print ((3 > 2 or 1 < 3) and (1!=3 and 4>3) and not ( 3 < 2 or 1 < 3 and (1!=3 and 4>3)))\n",
        "print (3 > 2 or 1 < 3 and (1!=3 and 4>3) and not ( 3 < 2 or 1 < 3 and (1!=3 and 4>3)))"
      ],
      "execution_count": 87,
      "outputs": [
        {
          "output_type": "stream",
          "name": "stdout",
          "text": [
            "False\n",
            "True\n"
          ]
        }
      ]
    },
    {
      "cell_type": "code",
      "metadata": {
        "colab": {
          "base_uri": "https://localhost:8080/"
        },
        "id": "7CBmIhtH3zq4",
        "outputId": "f3f2b135-7316-46e5-f1d1-e2245f9e55b1"
      },
      "source": [
        "print((1 == 1) and (1 == 1) and (1 == 1) and (1 == 1) and (1 == 1) and (1 != 2))"
      ],
      "execution_count": 88,
      "outputs": [
        {
          "output_type": "stream",
          "name": "stdout",
          "text": [
            "True\n"
          ]
        }
      ]
    },
    {
      "cell_type": "markdown",
      "metadata": {
        "id": "raPJ5UbX2auC"
      },
      "source": [
        "## If Statement"
      ]
    },
    {
      "cell_type": "code",
      "metadata": {
        "colab": {
          "base_uri": "https://localhost:8080/"
        },
        "id": "7rWTIx9C4UcP",
        "outputId": "6987d760-6019-49e2-e30f-aa366d0b7549"
      },
      "source": [
        "i = 0\n",
        "if i == 0: print('i == 0 is True')"
      ],
      "execution_count": 90,
      "outputs": [
        {
          "output_type": "stream",
          "name": "stdout",
          "text": [
            "i == 0 is True\n"
          ]
        }
      ]
    },
    {
      "cell_type": "code",
      "metadata": {
        "colab": {
          "base_uri": "https://localhost:8080/"
        },
        "id": "aJGMzJrv4W2o",
        "outputId": "a42f04a1-6022-470d-a36b-a9ee3c93fc22"
      },
      "source": [
        "j = 5\n",
        "if j < 4:\n",
        "  print(j, 'is less than 4')\n",
        "else:\n",
        "  print(j, 'is equal or greater than 4')"
      ],
      "execution_count": 92,
      "outputs": [
        {
          "output_type": "stream",
          "name": "stdout",
          "text": [
            "5 is equal or greater than 4\n"
          ]
        }
      ]
    },
    {
      "cell_type": "code",
      "metadata": {
        "colab": {
          "base_uri": "https://localhost:8080/"
        },
        "id": "M0jlYpNu4xZn",
        "outputId": "0bbada00-c7bb-45d4-fa99-4b5bfe2f542b"
      },
      "source": [
        "p = 1 > 0\n",
        "q = 2 > 3\n",
        "if p and q:\n",
        "    print('p and q is true')\n",
        "elif p and not q:\n",
        "    print('q is false')\n",
        "elif q and not p:\n",
        "    print('p is false')\n",
        "else:\n",
        "    print('None of p and q is true')"
      ],
      "execution_count": 94,
      "outputs": [
        {
          "output_type": "stream",
          "name": "stdout",
          "text": [
            "q is false\n"
          ]
        }
      ]
    },
    {
      "cell_type": "code",
      "metadata": {
        "colab": {
          "base_uri": "https://localhost:8080/"
        },
        "id": "jV_MTOal45I0",
        "outputId": "1a9b65cc-adce-40aa-f250-c1de5a8dbae5"
      },
      "source": [
        "r = 3**2 == 2**3 - 1\n",
        "s = 2**2 == 2**2 - 1\n",
        "\n",
        "if r and s:\n",
        "  print('This is a contradiction')\n",
        "else:\n",
        "  print('This is fine')"
      ],
      "execution_count": 95,
      "outputs": [
        {
          "output_type": "stream",
          "name": "stdout",
          "text": [
            "This is fine\n"
          ]
        }
      ]
    },
    {
      "cell_type": "markdown",
      "metadata": {
        "id": "t0dHx5YE2f9I"
      },
      "source": [
        "## Loop Structure"
      ]
    },
    {
      "cell_type": "markdown",
      "metadata": {
        "id": "goehGqtc5gOi"
      },
      "source": [
        "### While Loop\n",
        "\n"
      ]
    },
    {
      "cell_type": "code",
      "metadata": {
        "colab": {
          "base_uri": "https://localhost:8080/"
        },
        "id": "8yCe2u-e5hXJ",
        "outputId": "54b4f3e2-a4f3-435b-ab18-b280cbbda620"
      },
      "source": [
        "i = 0\n",
        "while i < 5:\n",
        "    print(i)\n",
        "    i += 1"
      ],
      "execution_count": 97,
      "outputs": [
        {
          "output_type": "stream",
          "name": "stdout",
          "text": [
            "0\n",
            "1\n",
            "2\n",
            "3\n",
            "4\n"
          ]
        }
      ]
    },
    {
      "cell_type": "code",
      "metadata": {
        "colab": {
          "base_uri": "https://localhost:8080/"
        },
        "id": "d8udr0GI5onY",
        "outputId": "540dc89e-3004-4cbc-860b-3a570d26d099"
      },
      "source": [
        "j = 25\n",
        "while j > 0:\n",
        "  print(j)\n",
        "  j -= 2"
      ],
      "execution_count": 101,
      "outputs": [
        {
          "output_type": "stream",
          "name": "stdout",
          "text": [
            "25\n",
            "23\n",
            "21\n",
            "19\n",
            "17\n",
            "15\n",
            "13\n",
            "11\n",
            "9\n",
            "7\n",
            "5\n",
            "3\n",
            "1\n"
          ]
        }
      ]
    },
    {
      "cell_type": "markdown",
      "metadata": {
        "id": "SmY3S_cD58Po"
      },
      "source": [
        "### For Loop"
      ]
    },
    {
      "cell_type": "code",
      "metadata": {
        "colab": {
          "base_uri": "https://localhost:8080/"
        },
        "id": "BuLRMo1p5-C3",
        "outputId": "1f5d79b6-b6fc-48f5-86ca-eb4cc7992777"
      },
      "source": [
        "for x in [1,2,3,4,5]: print(x)"
      ],
      "execution_count": 103,
      "outputs": [
        {
          "output_type": "stream",
          "name": "stdout",
          "text": [
            "1\n",
            "2\n",
            "3\n",
            "4\n",
            "5\n"
          ]
        }
      ]
    },
    {
      "cell_type": "code",
      "metadata": {
        "colab": {
          "base_uri": "https://localhost:8080/"
        },
        "id": "swT48SV66CqX",
        "outputId": "1a4eb5c5-b787-4b69-8515-6bca34e7776d"
      },
      "source": [
        "for p in [2, 3, 5, 7, 11, 13]: print(2**p - 1)"
      ],
      "execution_count": 106,
      "outputs": [
        {
          "output_type": "stream",
          "name": "stdout",
          "text": [
            "3\n",
            "7\n",
            "31\n",
            "127\n",
            "2047\n",
            "8191\n"
          ]
        }
      ]
    },
    {
      "cell_type": "code",
      "metadata": {
        "colab": {
          "base_uri": "https://localhost:8080/"
        },
        "id": "mv38szFG6Xr3",
        "outputId": "9dbcbd40-245c-4c49-e924-534491da93be"
      },
      "source": [
        "stocks = ['AAPL','GOOG','IBM','FB','F','V', 'G', 'GE']\n",
        "selected = ['AAPL','IBM']\n",
        "new_list = []\n",
        "for stock in stocks:\n",
        "    if stock not in selected:\n",
        "        new_list.append(stock)\n",
        "print(new_list)"
      ],
      "execution_count": 108,
      "outputs": [
        {
          "output_type": "stream",
          "name": "stdout",
          "text": [
            "['GOOG', 'FB', 'F', 'V', 'G', 'GE']\n"
          ]
        }
      ]
    },
    {
      "cell_type": "code",
      "metadata": {
        "colab": {
          "base_uri": "https://localhost:8080/"
        },
        "id": "doxj7unI6lkS",
        "outputId": "617833db-7720-4c62-c1a3-882effeb5294"
      },
      "source": [
        "odd_list = []\n",
        "\n",
        "for i in [1, 2, 3, 4, 5, 6, 7, 8, 9, 10]:\n",
        "  if i % 2 == 0:\n",
        "    print(i, 'is even')\n",
        "  else:\n",
        "    odd_list.append(i)\n",
        "    print(i, 'is odd')\n",
        "\n",
        "print(odd_list)"
      ],
      "execution_count": 111,
      "outputs": [
        {
          "output_type": "stream",
          "name": "stdout",
          "text": [
            "1 is odd\n",
            "2 is even\n",
            "3 is odd\n",
            "4 is even\n",
            "5 is odd\n",
            "6 is even\n",
            "7 is odd\n",
            "8 is even\n",
            "9 is odd\n",
            "10 is even\n",
            "[1, 3, 5, 7, 9]\n"
          ]
        }
      ]
    },
    {
      "cell_type": "markdown",
      "metadata": {
        "id": "HHADPHZM7Zbf"
      },
      "source": [
        "### ```break``` and ```continue```"
      ]
    },
    {
      "cell_type": "code",
      "metadata": {
        "colab": {
          "base_uri": "https://localhost:8080/"
        },
        "id": "HzqZIfmQ8Em5",
        "outputId": "076072a2-6ebf-4b2e-e553-6025220ebebe"
      },
      "source": [
        "stocks = ['AAPL','GOOG','IBM','FB','F','V', 'G', 'GE']\n",
        "for stock in stocks:\n",
        "    print(stock)\n",
        "    if stock == 'FB': break"
      ],
      "execution_count": 117,
      "outputs": [
        {
          "output_type": "stream",
          "name": "stdout",
          "text": [
            "AAPL\n",
            "GOOG\n",
            "IBM\n",
            "FB\n"
          ]
        }
      ]
    },
    {
      "cell_type": "code",
      "metadata": {
        "colab": {
          "base_uri": "https://localhost:8080/"
        },
        "id": "O8gyCWeV7gz0",
        "outputId": "0a9dfeb5-0a80-4f3b-e4f8-9d7757f22c25"
      },
      "source": [
        "our_list = []\n",
        "\n",
        "for i in [1, 2, 3, 4, 5, 6, 7, 8, 9, 10, 11, 12]:\n",
        "  our_list.append(i)\n",
        "  if i == 7:\n",
        "    break\n",
        "\n",
        "print(our_list)"
      ],
      "execution_count": 114,
      "outputs": [
        {
          "output_type": "stream",
          "name": "stdout",
          "text": [
            "[1, 2, 3, 4, 5, 6, 7]\n"
          ]
        }
      ]
    },
    {
      "cell_type": "code",
      "metadata": {
        "colab": {
          "base_uri": "https://localhost:8080/"
        },
        "id": "PjD3SyBw8C4r",
        "outputId": "edcf9cbb-bfa6-4caf-f45a-0d51f0009def"
      },
      "source": [
        "stocks = ['AAPL','GOOG','IBM','FB','F','V', 'G', 'GE']\n",
        "for stock in stocks:\n",
        "    if stock == 'FB': continue\n",
        "    print(stock)"
      ],
      "execution_count": 118,
      "outputs": [
        {
          "output_type": "stream",
          "name": "stdout",
          "text": [
            "AAPL\n",
            "GOOG\n",
            "IBM\n",
            "F\n",
            "V\n",
            "G\n",
            "GE\n"
          ]
        }
      ]
    },
    {
      "cell_type": "code",
      "metadata": {
        "colab": {
          "base_uri": "https://localhost:8080/"
        },
        "id": "wkPO2MDl8QmD",
        "outputId": "d198bdba-bd98-4a16-9a5d-9d66ba3073ef"
      },
      "source": [
        "our_list = []\n",
        "\n",
        "for i in [1, 2, 3, 4, 5, 6, 7, 8, 9, 10, 11, 12]:\n",
        "  if i > 7:\n",
        "    continue\n",
        "  our_list.append(i)\n",
        "\n",
        "print(our_list)"
      ],
      "execution_count": 119,
      "outputs": [
        {
          "output_type": "stream",
          "name": "stdout",
          "text": [
            "[1, 2, 3, 4, 5, 6, 7]\n"
          ]
        }
      ]
    },
    {
      "cell_type": "markdown",
      "metadata": {
        "id": "uE1xcIV74NAO"
      },
      "source": [
        "## List Comprehension"
      ]
    },
    {
      "cell_type": "code",
      "metadata": {
        "colab": {
          "base_uri": "https://localhost:8080/"
        },
        "id": "OsIFzSBo8hbn",
        "outputId": "b8a6600f-1e05-44b3-b67c-8c5d069a4a90"
      },
      "source": [
        "squares = []\n",
        "for i in [1,2,3,4,5]:\n",
        "    squares.append(i**2)\n",
        "print(squares)"
      ],
      "execution_count": 121,
      "outputs": [
        {
          "output_type": "stream",
          "name": "stdout",
          "text": [
            "[1, 4, 9, 16, 25]\n"
          ]
        }
      ]
    },
    {
      "cell_type": "code",
      "metadata": {
        "colab": {
          "base_uri": "https://localhost:8080/"
        },
        "id": "vq8TBA0VBHzi",
        "outputId": "bf44b356-377f-464b-9229-353059b922eb"
      },
      "source": [
        "foo = [1,2,3,4,5]\n",
        "squares = [x**2 for x in foo]\n",
        "print(squares)"
      ],
      "execution_count": 124,
      "outputs": [
        {
          "output_type": "stream",
          "name": "stdout",
          "text": [
            "[1, 4, 9, 16, 25]\n"
          ]
        }
      ]
    },
    {
      "cell_type": "code",
      "metadata": {
        "colab": {
          "base_uri": "https://localhost:8080/"
        },
        "id": "_IVIRGfEAzZB",
        "outputId": "3ba2cf70-d275-452f-850b-53062bae67e7"
      },
      "source": [
        "is_even = []\n",
        "\n",
        "for i in [1, 2, 3, 4, 5, 6, 7, 8]:\n",
        "  is_even.append(i % 2 == 0)\n",
        "\n",
        "print(is_even)"
      ],
      "execution_count": 122,
      "outputs": [
        {
          "output_type": "stream",
          "name": "stdout",
          "text": [
            "[False, True, False, True, False, True, False, True]\n"
          ]
        }
      ]
    },
    {
      "cell_type": "code",
      "metadata": {
        "colab": {
          "base_uri": "https://localhost:8080/"
        },
        "id": "Nva7PpdWBKf4",
        "outputId": "de3ce869-f267-4445-d969-ba5a15fc5d57"
      },
      "source": [
        "bar = [1, 2, 3, 4, 5, 6, 7, 8]\n",
        "is_even = [i % 2 == 0 for i in bar]\n",
        "\n",
        "print(is_even)"
      ],
      "execution_count": 125,
      "outputs": [
        {
          "output_type": "stream",
          "name": "stdout",
          "text": [
            "[False, True, False, True, False, True, False, True]\n"
          ]
        }
      ]
    },
    {
      "cell_type": "code",
      "metadata": {
        "colab": {
          "base_uri": "https://localhost:8080/"
        },
        "id": "Dvagl9IPBlI5",
        "outputId": "8644d91f-9676-4e00-886e-b43c1956eff0"
      },
      "source": [
        "stocks = ['AAPL','GOOG','IBM','FB','F','V', 'G', 'GE']\n",
        "selected = ['AAPL','IBM']\n",
        "new_list = [x for x in stocks if x not in selected]\n",
        "print(new_list)"
      ],
      "execution_count": 127,
      "outputs": [
        {
          "output_type": "stream",
          "name": "stdout",
          "text": [
            "['GOOG', 'FB', 'F', 'V', 'G', 'GE']\n"
          ]
        }
      ]
    },
    {
      "cell_type": "code",
      "metadata": {
        "colab": {
          "base_uri": "https://localhost:8080/"
        },
        "id": "VHjg23lRBqKY",
        "outputId": "092a9444-1e71-44bc-c350-aa5cd7ad62a6"
      },
      "source": [
        "numbers = [1, 2, 3, 4, 5, 6, 7, 8, 9, 10]\n",
        "\n",
        "odd_list = [i for i in numbers if i % 2 != 0]\n",
        "print(odd_list)"
      ],
      "execution_count": 128,
      "outputs": [
        {
          "output_type": "stream",
          "name": "stdout",
          "text": [
            "[1, 3, 5, 7, 9]\n"
          ]
        }
      ]
    },
    {
      "cell_type": "code",
      "metadata": {
        "colab": {
          "base_uri": "https://localhost:8080/"
        },
        "id": "LCdhan7GCFKn",
        "outputId": "c3c29c37-814a-4b5d-d3b7-370aa19f9de4"
      },
      "source": [
        "print([(x, y) for x in [1,2,3] for y in [3,1,4] if x != y])\n",
        "print([str(x) + ' vs ' + str(y) for x in ['AAPL','GOOG','IBM','FB']\n",
        "                                for y in ['F','V','G','GE'] if x != y])"
      ],
      "execution_count": 130,
      "outputs": [
        {
          "output_type": "stream",
          "name": "stdout",
          "text": [
            "[(1, 3), (1, 4), (2, 3), (2, 1), (2, 4), (3, 1), (3, 4)]\n",
            "['AAPL vs F', 'AAPL vs V', 'AAPL vs G', 'AAPL vs GE', 'GOOG vs F', 'GOOG vs V', 'GOOG vs G', 'GOOG vs GE', 'IBM vs F', 'IBM vs V', 'IBM vs G', 'IBM vs GE', 'FB vs F', 'FB vs V', 'FB vs G', 'FB vs GE']\n"
          ]
        }
      ]
    },
    {
      "cell_type": "code",
      "metadata": {
        "colab": {
          "base_uri": "https://localhost:8080/"
        },
        "id": "myfP8BIFCRfl",
        "outputId": "512ab931-faa5-4901-cfd0-079655d6c233"
      },
      "source": [
        "coordinates = [str(a) + str(b) for a in ['A', 'B', 'C', 'D'] for b in [1, 2, 3, 4]]\n",
        "print(coordinates)"
      ],
      "execution_count": 132,
      "outputs": [
        {
          "output_type": "stream",
          "name": "stdout",
          "text": [
            "['A1', 'A2', 'A3', 'A4', 'B1', 'B2', 'B3', 'B4', 'C1', 'C2', 'C3', 'C4', 'D1', 'D2', 'D3', 'D4']\n"
          ]
        }
      ]
    },
    {
      "cell_type": "markdown",
      "metadata": {
        "id": "qVY2hHgFi0J6"
      },
      "source": [
        "# 03 – Python: Functions and Object-Oriented Programming"
      ]
    },
    {
      "cell_type": "markdown",
      "metadata": {
        "id": "g5vPruaoC2f-"
      },
      "source": [
        "## Functions"
      ]
    },
    {
      "cell_type": "code",
      "metadata": {
        "colab": {
          "base_uri": "https://localhost:8080/"
        },
        "id": "jJ4EQM1VDBgB",
        "outputId": "ede5af11-470f-4935-9b87-624b9127cba5"
      },
      "source": [
        "def product(x,y):\n",
        "    return x*y\n",
        "print(product(2,3))\n",
        "print(product(5,10))"
      ],
      "execution_count": 134,
      "outputs": [
        {
          "output_type": "stream",
          "name": "stdout",
          "text": [
            "6\n",
            "50\n"
          ]
        }
      ]
    },
    {
      "cell_type": "code",
      "metadata": {
        "colab": {
          "base_uri": "https://localhost:8080/"
        },
        "id": "01v4LcjADEoS",
        "outputId": "e9b1c885-59bf-4522-d408-8be80f524e4d"
      },
      "source": [
        "def is_even(x):\n",
        "  return x % 2 == 0\n",
        "\n",
        "print(is_even(3))\n",
        "print(is_even(4))\n",
        "print(is_even(45))"
      ],
      "execution_count": 136,
      "outputs": [
        {
          "output_type": "stream",
          "name": "stdout",
          "text": [
            "False\n",
            "True\n",
            "False\n"
          ]
        }
      ]
    },
    {
      "cell_type": "code",
      "metadata": {
        "colab": {
          "base_uri": "https://localhost:8080/"
        },
        "id": "BayIjtroDg6v",
        "outputId": "9a6e656d-c998-42ab-bfeb-b4533082a23c"
      },
      "source": [
        "def say_hi():\n",
        "    print(\"Welcome to QuantConnect\")\n",
        "say_hi()"
      ],
      "execution_count": 139,
      "outputs": [
        {
          "output_type": "stream",
          "name": "stdout",
          "text": [
            "Welcome to QuantConnect\n"
          ]
        }
      ]
    },
    {
      "cell_type": "code",
      "metadata": {
        "colab": {
          "base_uri": "https://localhost:8080/"
        },
        "id": "DbBBmjkqDkgI",
        "outputId": "670bfb97-3a66-4892-f60f-cc59f71e88d8"
      },
      "source": [
        "def greet(s):\n",
        "  print('Hello', s + '!')\n",
        "\n",
        "greet('World')\n",
        "greet('everyone')"
      ],
      "execution_count": 141,
      "outputs": [
        {
          "output_type": "stream",
          "name": "stdout",
          "text": [
            "Hello World!\n",
            "Hello everyone!\n"
          ]
        }
      ]
    },
    {
      "cell_type": "markdown",
      "metadata": {
        "id": "w8iYaXc6C33m"
      },
      "source": [
        "## Built-in Function"
      ]
    },
    {
      "cell_type": "markdown",
      "metadata": {
        "id": "PaIWgzeID0-h"
      },
      "source": [
        "### ```range()```"
      ]
    },
    {
      "cell_type": "code",
      "metadata": {
        "colab": {
          "base_uri": "https://localhost:8080/"
        },
        "id": "OKvI62iaD3LH",
        "outputId": "638a7eb8-b9ab-45b3-a1c1-002ac5383bdb"
      },
      "source": [
        "print(range(10))\n",
        "print(range(1, 11))\n",
        "print(range(1, 11, 2))"
      ],
      "execution_count": 150,
      "outputs": [
        {
          "output_type": "stream",
          "name": "stdout",
          "text": [
            "range(0, 10)\n",
            "range(1, 11)\n",
            "range(1, 11, 2)\n"
          ]
        }
      ]
    },
    {
      "cell_type": "code",
      "metadata": {
        "colab": {
          "base_uri": "https://localhost:8080/"
        },
        "id": "Eo12tkkzEAwG",
        "outputId": "1473b6ff-7e05-4b9c-e322-6c32e38cc9c6"
      },
      "source": [
        "# Looks like the original range() function in Python 2 was removed, so it no longer prints a list.\n",
        "print([x for x in range(10)])\n",
        "print([x for x in range(3, 15, 2)])"
      ],
      "execution_count": 157,
      "outputs": [
        {
          "output_type": "stream",
          "name": "stdout",
          "text": [
            "[0, 1, 2, 3, 4, 5, 6, 7, 8, 9]\n",
            "[3, 5, 7, 9, 11, 13]\n"
          ]
        }
      ]
    },
    {
      "cell_type": "markdown",
      "metadata": {
        "id": "-QG8FWT8Fg4u"
      },
      "source": [
        "### ```len()```"
      ]
    },
    {
      "cell_type": "code",
      "metadata": {
        "colab": {
          "base_uri": "https://localhost:8080/"
        },
        "id": "7TcOPMfpFj42",
        "outputId": "80ad49af-7d40-4505-d78a-1df5e1e183ab"
      },
      "source": [
        "tickers = ['AAPL', 'GOOGL', 'IBM', 'FB', 'F', 'V', 'G', 'GE']\n",
        "print(\"The number of tickers is {}\".format(len(tickers)))\n",
        "for k in range(len(tickers)):\n",
        "    print(k + 1, tickers[k])"
      ],
      "execution_count": 159,
      "outputs": [
        {
          "output_type": "stream",
          "name": "stdout",
          "text": [
            "The number of tickers is 8\n",
            "1 AAPL\n",
            "2 GOOGL\n",
            "3 IBM\n",
            "4 FB\n",
            "5 F\n",
            "6 V\n",
            "7 G\n",
            "8 GE\n"
          ]
        }
      ]
    },
    {
      "cell_type": "code",
      "metadata": {
        "colab": {
          "base_uri": "https://localhost:8080/"
        },
        "id": "mJEg1S3WFuks",
        "outputId": "2da79571-0276-4b81-d45a-68a6ddfe66f5"
      },
      "source": [
        "numbers = [1, 2, 3, 4, 5, 6]\n",
        "for i in range(len(numbers)):\n",
        "  print('2 to the power of', i, 'is equal to', 2**i)"
      ],
      "execution_count": 160,
      "outputs": [
        {
          "output_type": "stream",
          "name": "stdout",
          "text": [
            "2 to the power of 0 is equal to 1\n",
            "2 to the power of 1 is equal to 2\n",
            "2 to the power of 2 is equal to 4\n",
            "2 to the power of 3 is equal to 8\n",
            "2 to the power of 4 is equal to 16\n",
            "2 to the power of 5 is equal to 32\n"
          ]
        }
      ]
    },
    {
      "cell_type": "markdown",
      "metadata": {
        "id": "YFq24wI0Gtmm"
      },
      "source": [
        "### ```map()```"
      ]
    },
    {
      "cell_type": "code",
      "metadata": {
        "colab": {
          "base_uri": "https://localhost:8080/"
        },
        "id": "0fDUp_iuG-HO",
        "outputId": "c2b0e1d4-b732-40a6-a085-da2803eb7eb9"
      },
      "source": [
        "tickers = ['AAPL','GOOG','IBM','FB','F','V', 'G', 'GE']\n",
        "print(list(map(len,tickers)))"
      ],
      "execution_count": 161,
      "outputs": [
        {
          "output_type": "stream",
          "name": "stdout",
          "text": [
            "[4, 4, 3, 2, 1, 1, 1, 2]\n"
          ]
        }
      ]
    },
    {
      "cell_type": "code",
      "metadata": {
        "colab": {
          "base_uri": "https://localhost:8080/"
        },
        "id": "_fTXwByeHBKh",
        "outputId": "e75f38bb-6423-4fdc-d696-06cb5c5ee549"
      },
      "source": [
        "numbers = ['one', 'two', 'three', 'four', 'five', 'six', 'seven']\n",
        "print(list(map(len, numbers)))"
      ],
      "execution_count": 162,
      "outputs": [
        {
          "output_type": "stream",
          "name": "stdout",
          "text": [
            "[3, 3, 5, 4, 4, 3, 5]\n"
          ]
        }
      ]
    },
    {
      "cell_type": "code",
      "metadata": {
        "colab": {
          "base_uri": "https://localhost:8080/"
        },
        "id": "xOXOOYn9HNIo",
        "outputId": "d6d5e16e-c438-44bc-a3e7-b88158969547"
      },
      "source": [
        "my_map = map(lambda x: x**2, range(10))\n",
        "print(list(my_map))"
      ],
      "execution_count": 164,
      "outputs": [
        {
          "output_type": "stream",
          "name": "stdout",
          "text": [
            "[0, 1, 4, 9, 16, 25, 36, 49, 64, 81]\n"
          ]
        }
      ]
    },
    {
      "cell_type": "code",
      "metadata": {
        "colab": {
          "base_uri": "https://localhost:8080/"
        },
        "id": "kfPfKWBDHX6b",
        "outputId": "2094668f-e4ff-4840-e715-1c761d5e5004"
      },
      "source": [
        "print(list(map(lambda x: 1/x, range(1, 15))))"
      ],
      "execution_count": 166,
      "outputs": [
        {
          "output_type": "stream",
          "name": "stdout",
          "text": [
            "[1.0, 0.5, 0.3333333333333333, 0.25, 0.2, 0.16666666666666666, 0.14285714285714285, 0.125, 0.1111111111111111, 0.1, 0.09090909090909091, 0.08333333333333333, 0.07692307692307693, 0.07142857142857142]\n"
          ]
        }
      ]
    },
    {
      "cell_type": "code",
      "metadata": {
        "colab": {
          "base_uri": "https://localhost:8080/"
        },
        "id": "NoB1RpI0Hrs9",
        "outputId": "b587eca6-a3c5-49ae-fd93-fd957ad2deab"
      },
      "source": [
        "my_map = map(lambda x, y: x+y, [1,2,3,4,5], [5,4,3,2,1])\n",
        "print(list(my_map))"
      ],
      "execution_count": 167,
      "outputs": [
        {
          "output_type": "stream",
          "name": "stdout",
          "text": [
            "[6, 6, 6, 6, 6]\n"
          ]
        }
      ]
    },
    {
      "cell_type": "code",
      "metadata": {
        "colab": {
          "base_uri": "https://localhost:8080/"
        },
        "id": "Q8mcy7prHuu1",
        "outputId": "a6d9468e-5b83-4f68-8e59-42e654c396fb"
      },
      "source": [
        "print(list(map(lambda x, y: x**y, range(1, 11), range(1, 11))))"
      ],
      "execution_count": 172,
      "outputs": [
        {
          "output_type": "stream",
          "name": "stdout",
          "text": [
            "[1, 4, 27, 256, 3125, 46656, 823543, 16777216, 387420489, 10000000000]\n"
          ]
        }
      ]
    },
    {
      "cell_type": "markdown",
      "metadata": {
        "id": "cdR9AHV4IDFu"
      },
      "source": [
        "### ```sorted()```"
      ]
    },
    {
      "cell_type": "code",
      "metadata": {
        "colab": {
          "base_uri": "https://localhost:8080/"
        },
        "id": "I3xN7q2UIFne",
        "outputId": "c03339e4-e430-40b5-ebea-0bc72d816f23"
      },
      "source": [
        "sorted([5,2,3,4,1])"
      ],
      "execution_count": 170,
      "outputs": [
        {
          "output_type": "execute_result",
          "data": {
            "text/plain": [
              "[1, 2, 3, 4, 5]"
            ]
          },
          "metadata": {},
          "execution_count": 170
        }
      ]
    },
    {
      "cell_type": "code",
      "metadata": {
        "colab": {
          "base_uri": "https://localhost:8080/"
        },
        "id": "TeD2DyJNIOWH",
        "outputId": "5d88ebdb-6a77-462f-d1fd-c8cf368d4411"
      },
      "source": [
        "sorted(['a', 'c', 'd', 'f', 'y', 'p'])"
      ],
      "execution_count": 173,
      "outputs": [
        {
          "output_type": "execute_result",
          "data": {
            "text/plain": [
              "['a', 'c', 'd', 'f', 'p', 'y']"
            ]
          },
          "metadata": {},
          "execution_count": 173
        }
      ]
    },
    {
      "cell_type": "code",
      "metadata": {
        "colab": {
          "base_uri": "https://localhost:8080/"
        },
        "id": "MtxaTAHELOOu",
        "outputId": "b6c807e5-9613-47c3-a7ee-e2f7511dcf2a"
      },
      "source": [
        "price_list = [('AAPL', 144.09), ('GOOGL', 911.71), ('MSFT', 69), ('FB', 150), ('WMT', 75.32)]\n",
        "sorted(price_list, key = lambda x: x[1])"
      ],
      "execution_count": 174,
      "outputs": [
        {
          "output_type": "execute_result",
          "data": {
            "text/plain": [
              "[('MSFT', 69),\n",
              " ('WMT', 75.32),\n",
              " ('AAPL', 144.09),\n",
              " ('FB', 150),\n",
              " ('GOOGL', 911.71)]"
            ]
          },
          "metadata": {},
          "execution_count": 174
        }
      ]
    },
    {
      "cell_type": "code",
      "metadata": {
        "colab": {
          "base_uri": "https://localhost:8080/"
        },
        "id": "DHBgYT4yLPXm",
        "outputId": "89a794c5-530e-40b7-f759-5cfefbb937ae"
      },
      "source": [
        "coordinates = [('A', 5), ('B', 2), ('E', 4), ('E', 6), ('C', 1), ('D', 3)]\n",
        "sorted(coordinates, key = lambda x: x[0])"
      ],
      "execution_count": 176,
      "outputs": [
        {
          "output_type": "execute_result",
          "data": {
            "text/plain": [
              "[('A', 5), ('B', 2), ('C', 1), ('D', 3), ('E', 4), ('E', 6)]"
            ]
          },
          "metadata": {},
          "execution_count": 176
        }
      ]
    },
    {
      "cell_type": "code",
      "metadata": {
        "colab": {
          "base_uri": "https://localhost:8080/"
        },
        "id": "9emqQo9QLxZS",
        "outputId": "1fcf0842-26b8-448d-dbb6-863f5d509a7e"
      },
      "source": [
        "price_list = [('AAPL', 144.09), ('GOOGL', 911.71), ('MSFT', 69), ('FB', 150), ('WMT', 75.32)]\n",
        "sorted(price_list, key = lambda x: x[1], reverse = True)"
      ],
      "execution_count": 177,
      "outputs": [
        {
          "output_type": "execute_result",
          "data": {
            "text/plain": [
              "[('GOOGL', 911.71),\n",
              " ('FB', 150),\n",
              " ('AAPL', 144.09),\n",
              " ('WMT', 75.32),\n",
              " ('MSFT', 69)]"
            ]
          },
          "metadata": {},
          "execution_count": 177
        }
      ]
    },
    {
      "cell_type": "code",
      "metadata": {
        "colab": {
          "base_uri": "https://localhost:8080/"
        },
        "id": "GGdY_UZDL1W9",
        "outputId": "88e79e0a-405d-4ec9-93c8-1a0deff54a8e"
      },
      "source": [
        "coordinates = [('A', 5), ('B', 2), ('E', 4), ('E', 6), ('C', 1), ('D', 3)]\n",
        "sorted(coordinates, key = lambda x: x[0], reverse = True)"
      ],
      "execution_count": 178,
      "outputs": [
        {
          "output_type": "execute_result",
          "data": {
            "text/plain": [
              "[('E', 4), ('E', 6), ('D', 3), ('C', 1), ('B', 2), ('A', 5)]"
            ]
          },
          "metadata": {},
          "execution_count": 178
        }
      ]
    },
    {
      "cell_type": "code",
      "metadata": {
        "colab": {
          "base_uri": "https://localhost:8080/"
        },
        "id": "s1X6_j5CL-Je",
        "outputId": "23fece0a-2e8e-454b-f071-b857fe0e3ed9"
      },
      "source": [
        "price_list = [('AAPL', 144.09), ('GOOGL', 911.71), ('MSFT', 69), ('FB', 150), ('WMT', 75.32)]\n",
        "price_list.sort(key = lambda x: x[1])\n",
        "print(price_list)"
      ],
      "execution_count": 180,
      "outputs": [
        {
          "output_type": "stream",
          "name": "stdout",
          "text": [
            "[('MSFT', 69), ('WMT', 75.32), ('AAPL', 144.09), ('FB', 150), ('GOOGL', 911.71)]\n"
          ]
        }
      ]
    },
    {
      "cell_type": "code",
      "metadata": {
        "colab": {
          "base_uri": "https://localhost:8080/"
        },
        "id": "BVazgXcdMAIV",
        "outputId": "1851a1ae-7bde-4729-c3c6-0311e2c1cfd3"
      },
      "source": [
        "coordinates = [('A', 5), ('B', 2), ('E', 4), ('E', 6), ('C', 1), ('D', 3)]\n",
        "coordinates.sort(key = lambda x: x[0])\n",
        "print(coordinates)"
      ],
      "execution_count": 182,
      "outputs": [
        {
          "output_type": "stream",
          "name": "stdout",
          "text": [
            "[('A', 5), ('B', 2), ('C', 1), ('D', 3), ('E', 4), ('E', 6)]\n"
          ]
        }
      ]
    },
    {
      "cell_type": "markdown",
      "metadata": {
        "id": "MQk7chxuC50r"
      },
      "source": [
        "## Object-Oriented Programming"
      ]
    },
    {
      "cell_type": "markdown",
      "metadata": {
        "id": "OF3rmX_UMRRu"
      },
      "source": [
        "### Class"
      ]
    },
    {
      "cell_type": "code",
      "metadata": {
        "id": "7tfeR_VJQW3J"
      },
      "source": [
        "class Stock:\n",
        "    def __init__(self, ticker, open, close, volume):\n",
        "        self.ticker = ticker\n",
        "        self.open = open\n",
        "        self.close = close\n",
        "        self.volume = volume\n",
        "        self.rate_return = float(close)/open - 1\n",
        "\n",
        "    def update(self, open, close):\n",
        "        self.open = open\n",
        "        self.close = close\n",
        "        self.rate_return = float(self.close)/self.open - 1\n",
        "\n",
        "    def print_return(self):\n",
        "        print(self.rate_return)"
      ],
      "execution_count": 184,
      "outputs": []
    },
    {
      "cell_type": "code",
      "metadata": {
        "id": "LC_y8W66TfPo"
      },
      "source": [
        "class Person:\n",
        "  def __init__(self, age, gender, height, weight):\n",
        "    self.age = age\n",
        "    self.gender = gender\n",
        "    self.height = height\n",
        "    self.weight = weight\n",
        "  \n",
        "  def birthday(self):\n",
        "    self.age += 1\n",
        "  \n",
        "  def print_age(self):\n",
        "    print(self.age)"
      ],
      "execution_count": 185,
      "outputs": []
    },
    {
      "cell_type": "code",
      "metadata": {
        "id": "vMjFyx_aUj_4"
      },
      "source": [
        "apple  = Stock('AAPL', 143.69, 144.09, 20109375)\n",
        "google = Stock('GOOGL', 898.7, 911.7, 1561616)"
      ],
      "execution_count": 186,
      "outputs": []
    },
    {
      "cell_type": "code",
      "metadata": {
        "id": "VlUkw23BUlpq"
      },
      "source": [
        "Luis = Person(20, 'M', 180, 72)\n",
        "Luisa = Person(24, 'F', 157, 60)"
      ],
      "execution_count": 187,
      "outputs": []
    },
    {
      "cell_type": "code",
      "metadata": {
        "colab": {
          "base_uri": "https://localhost:8080/"
        },
        "id": "ahCf7Z53U7mh",
        "outputId": "de9766b8-a1d0-4947-b86e-9cd14614558b"
      },
      "source": [
        "apple.ticker\n",
        "google.print_return()\n",
        "google.update(912.8,913.4)\n",
        "google.print_return()"
      ],
      "execution_count": 192,
      "outputs": [
        {
          "output_type": "stream",
          "name": "stdout",
          "text": [
            "0.0006573181419806673\n",
            "0.0006573181419806673\n"
          ]
        }
      ]
    },
    {
      "cell_type": "code",
      "metadata": {
        "colab": {
          "base_uri": "https://localhost:8080/",
          "height": 36
        },
        "id": "LpjRG3ezVJo_",
        "outputId": "b09272e0-e021-42a2-e1fc-7c285ef28681"
      },
      "source": [
        "apple.ticker"
      ],
      "execution_count": 193,
      "outputs": [
        {
          "output_type": "execute_result",
          "data": {
            "application/vnd.google.colaboratory.intrinsic+json": {
              "type": "string"
            },
            "text/plain": [
              "'AAPL'"
            ]
          },
          "metadata": {},
          "execution_count": 193
        }
      ]
    },
    {
      "cell_type": "code",
      "metadata": {
        "colab": {
          "base_uri": "https://localhost:8080/"
        },
        "id": "SCc9FtLBVK-G",
        "outputId": "c39eb4f5-4585-4ab6-8831-bd0eebf21d28"
      },
      "source": [
        "Luis.print_age()\n",
        "Luis.birthday()\n",
        "Luis.print_age()"
      ],
      "execution_count": 194,
      "outputs": [
        {
          "output_type": "stream",
          "name": "stdout",
          "text": [
            "20\n",
            "21\n"
          ]
        }
      ]
    },
    {
      "cell_type": "code",
      "metadata": {
        "colab": {
          "base_uri": "https://localhost:8080/",
          "height": 36
        },
        "id": "JiyysvEpVaPg",
        "outputId": "08c79aee-f7fa-4ac2-df43-1f44d2d4b09b"
      },
      "source": [
        "apple.ceo = 'Tim Cook'\n",
        "apple.ceo"
      ],
      "execution_count": 195,
      "outputs": [
        {
          "output_type": "execute_result",
          "data": {
            "application/vnd.google.colaboratory.intrinsic+json": {
              "type": "string"
            },
            "text/plain": [
              "'Tim Cook'"
            ]
          },
          "metadata": {},
          "execution_count": 195
        }
      ]
    },
    {
      "cell_type": "code",
      "metadata": {
        "colab": {
          "base_uri": "https://localhost:8080/",
          "height": 36
        },
        "id": "xQ8gjdsRVbmo",
        "outputId": "70ea152c-c5e2-472c-d839-808a365edbf9"
      },
      "source": [
        "Luis.name = 'Luis'\n",
        "Luis.name"
      ],
      "execution_count": 196,
      "outputs": [
        {
          "output_type": "execute_result",
          "data": {
            "application/vnd.google.colaboratory.intrinsic+json": {
              "type": "string"
            },
            "text/plain": [
              "'Luis'"
            ]
          },
          "metadata": {},
          "execution_count": 196
        }
      ]
    },
    {
      "cell_type": "code",
      "metadata": {
        "colab": {
          "base_uri": "https://localhost:8080/"
        },
        "id": "FthHMdmrVmLg",
        "outputId": "31beed1c-8930-47c1-ca0b-c2aac5b47c0e"
      },
      "source": [
        "dir(apple)"
      ],
      "execution_count": 197,
      "outputs": [
        {
          "output_type": "execute_result",
          "data": {
            "text/plain": [
              "['__class__',\n",
              " '__delattr__',\n",
              " '__dict__',\n",
              " '__dir__',\n",
              " '__doc__',\n",
              " '__eq__',\n",
              " '__format__',\n",
              " '__ge__',\n",
              " '__getattribute__',\n",
              " '__gt__',\n",
              " '__hash__',\n",
              " '__init__',\n",
              " '__init_subclass__',\n",
              " '__le__',\n",
              " '__lt__',\n",
              " '__module__',\n",
              " '__ne__',\n",
              " '__new__',\n",
              " '__reduce__',\n",
              " '__reduce_ex__',\n",
              " '__repr__',\n",
              " '__setattr__',\n",
              " '__sizeof__',\n",
              " '__str__',\n",
              " '__subclasshook__',\n",
              " '__weakref__',\n",
              " 'ceo',\n",
              " 'close',\n",
              " 'open',\n",
              " 'print_return',\n",
              " 'rate_return',\n",
              " 'ticker',\n",
              " 'update',\n",
              " 'volume']"
            ]
          },
          "metadata": {},
          "execution_count": 197
        }
      ]
    },
    {
      "cell_type": "code",
      "metadata": {
        "colab": {
          "base_uri": "https://localhost:8080/"
        },
        "id": "Ixvj6z7QVokX",
        "outputId": "2aec7f76-5c36-4815-8868-2eb34c494bc7"
      },
      "source": [
        "dir(Luis)"
      ],
      "execution_count": 198,
      "outputs": [
        {
          "output_type": "execute_result",
          "data": {
            "text/plain": [
              "['__class__',\n",
              " '__delattr__',\n",
              " '__dict__',\n",
              " '__dir__',\n",
              " '__doc__',\n",
              " '__eq__',\n",
              " '__format__',\n",
              " '__ge__',\n",
              " '__getattribute__',\n",
              " '__gt__',\n",
              " '__hash__',\n",
              " '__init__',\n",
              " '__init_subclass__',\n",
              " '__le__',\n",
              " '__lt__',\n",
              " '__module__',\n",
              " '__ne__',\n",
              " '__new__',\n",
              " '__reduce__',\n",
              " '__reduce_ex__',\n",
              " '__repr__',\n",
              " '__setattr__',\n",
              " '__sizeof__',\n",
              " '__str__',\n",
              " '__subclasshook__',\n",
              " '__weakref__',\n",
              " 'age',\n",
              " 'birthday',\n",
              " 'gender',\n",
              " 'height',\n",
              " 'name',\n",
              " 'print_age',\n",
              " 'weight']"
            ]
          },
          "metadata": {},
          "execution_count": 198
        }
      ]
    },
    {
      "cell_type": "markdown",
      "metadata": {
        "id": "CxqdQQqwVu1S"
      },
      "source": [
        "### Inheritance"
      ]
    },
    {
      "cell_type": "code",
      "metadata": {
        "id": "d-ASmSgEVzGp"
      },
      "source": [
        "class Child(Stock):\n",
        "    def __init__(self, name):\n",
        "        self.name = name"
      ],
      "execution_count": 199,
      "outputs": []
    },
    {
      "cell_type": "code",
      "metadata": {
        "id": "Eh-m1r0fV5Y3"
      },
      "source": [
        "class Kid(Person):\n",
        "  def __init__(self, name, father, mother, age, gender):\n",
        "    self.name = name\n",
        "    self.father = father\n",
        "    self.mother = mother\n",
        "    self.age = age\n",
        "    self.gender = gender"
      ],
      "execution_count": 208,
      "outputs": []
    },
    {
      "cell_type": "code",
      "metadata": {
        "colab": {
          "base_uri": "https://localhost:8080/"
        },
        "id": "8QO7lwR0WEum",
        "outputId": "9a8550cc-860e-4d36-e76d-52c3d9246fac"
      },
      "source": [
        "aa = Child('AA')\n",
        "print(aa.name)\n",
        "aa.update(100, 102)\n",
        "print(aa.open)\n",
        "print(aa.close)\n",
        "print(aa.print_return())"
      ],
      "execution_count": 204,
      "outputs": [
        {
          "output_type": "stream",
          "name": "stdout",
          "text": [
            "AA\n",
            "100\n",
            "102\n",
            "0.020000000000000018\n",
            "None\n"
          ]
        }
      ]
    },
    {
      "cell_type": "code",
      "metadata": {
        "colab": {
          "base_uri": "https://localhost:8080/"
        },
        "id": "jRHrXXprWOSd",
        "outputId": "f82aefbb-ac0e-48e5-e760-1af4ec207cc0"
      },
      "source": [
        "Pedro = Kid('Pedro', Luis, Luisa, 10, 'M')\n",
        "Pedro.print_age()\n",
        "Pedro.birthday()\n",
        "Pedro.print_age()"
      ],
      "execution_count": 209,
      "outputs": [
        {
          "output_type": "stream",
          "name": "stdout",
          "text": [
            "10\n",
            "11\n"
          ]
        }
      ]
    },
    {
      "cell_type": "markdown",
      "metadata": {
        "id": "eOVe80Oti71r"
      },
      "source": [
        "# 04 – NumPy and Basic Pandas"
      ]
    },
    {
      "cell_type": "markdown",
      "metadata": {
        "id": "1n5kQ_x7X1Xh"
      },
      "source": [
        "## NumPy"
      ]
    },
    {
      "cell_type": "code",
      "metadata": {
        "id": "e558keSAX8yA"
      },
      "source": [
        "import numpy as np"
      ],
      "execution_count": 210,
      "outputs": []
    },
    {
      "cell_type": "markdown",
      "metadata": {
        "id": "GJZpcLs7X_MJ"
      },
      "source": [
        "### Arrays"
      ]
    },
    {
      "cell_type": "code",
      "metadata": {
        "colab": {
          "base_uri": "https://localhost:8080/"
        },
        "id": "_jY62hnTYEoy",
        "outputId": "99481033-5587-4129-85fc-aea43ff64de6"
      },
      "source": [
        "price_list = [143.73, 145.83, 143.68, 144.02, 143.5, 142.62]\n",
        "price_array = np.array(price_list)\n",
        "print(price_array, type(price_array))"
      ],
      "execution_count": 212,
      "outputs": [
        {
          "output_type": "stream",
          "name": "stdout",
          "text": [
            "[143.73 145.83 143.68 144.02 143.5  142.62] <class 'numpy.ndarray'>\n"
          ]
        }
      ]
    },
    {
      "cell_type": "code",
      "metadata": {
        "colab": {
          "base_uri": "https://localhost:8080/"
        },
        "id": "l-J9oJgmYQuG",
        "outputId": "7c0fef1e-c25e-4289-cdcc-878f220f5741"
      },
      "source": [
        "numbers = list(range(1, 10))\n",
        "number_array = np.array(numbers)\n",
        "print(number_array, type(price_array))"
      ],
      "execution_count": 215,
      "outputs": [
        {
          "output_type": "stream",
          "name": "stdout",
          "text": [
            "[1 2 3 4 5 6 7 8 9] <class 'numpy.ndarray'>\n"
          ]
        }
      ]
    },
    {
      "cell_type": "code",
      "metadata": {
        "colab": {
          "base_uri": "https://localhost:8080/"
        },
        "id": "hAz6M2DjYxcR",
        "outputId": "a0ce2d43-343d-48be-fa47-cedc9c7ca010"
      },
      "source": [
        "Ar = np.array([[1,3], [2,4]])\n",
        "print(Ar, type(Ar))"
      ],
      "execution_count": 217,
      "outputs": [
        {
          "output_type": "stream",
          "name": "stdout",
          "text": [
            "[[1 3]\n",
            " [2 4]] <class 'numpy.ndarray'>\n"
          ]
        }
      ]
    },
    {
      "cell_type": "code",
      "metadata": {
        "colab": {
          "base_uri": "https://localhost:8080/"
        },
        "id": "XP-NqVPIY0e4",
        "outputId": "48f4e494-81ff-44b8-c76c-856a27a7114c"
      },
      "source": [
        "M = np.array([['A', 'D', 'G'], ['B', 'E', 'H'], ['C', 'F', 'I']])\n",
        "print(M, type(M))"
      ],
      "execution_count": 219,
      "outputs": [
        {
          "output_type": "stream",
          "name": "stdout",
          "text": [
            "[['A' 'D' 'G']\n",
            " ['B' 'E' 'H']\n",
            " ['C' 'F' 'I']] <class 'numpy.ndarray'>\n"
          ]
        }
      ]
    },
    {
      "cell_type": "code",
      "metadata": {
        "colab": {
          "base_uri": "https://localhost:8080/"
        },
        "id": "jI9k5LzDZQC8",
        "outputId": "a10d350f-1ebd-4d4d-fc36-b1bb4bb0ef86"
      },
      "source": [
        "print(Ar.shape)"
      ],
      "execution_count": 221,
      "outputs": [
        {
          "output_type": "stream",
          "name": "stdout",
          "text": [
            "(2, 2)\n"
          ]
        }
      ]
    },
    {
      "cell_type": "code",
      "metadata": {
        "colab": {
          "base_uri": "https://localhost:8080/"
        },
        "id": "EXImPWvsZRxC",
        "outputId": "756deefb-d6d6-4d61-b446-139be55d9b68"
      },
      "source": [
        "print(M.shape)"
      ],
      "execution_count": 222,
      "outputs": [
        {
          "output_type": "stream",
          "name": "stdout",
          "text": [
            "(3, 3)\n"
          ]
        }
      ]
    },
    {
      "cell_type": "code",
      "metadata": {
        "colab": {
          "base_uri": "https://localhost:8080/"
        },
        "id": "a-4syTrtZVwf",
        "outputId": "7fcfbe44-227d-4f07-cf28-1c2a676e0942"
      },
      "source": [
        "print(Ar[0])\n",
        "print(Ar[1])"
      ],
      "execution_count": 223,
      "outputs": [
        {
          "output_type": "stream",
          "name": "stdout",
          "text": [
            "[1 3]\n",
            "[2 4]\n"
          ]
        }
      ]
    },
    {
      "cell_type": "code",
      "metadata": {
        "colab": {
          "base_uri": "https://localhost:8080/"
        },
        "id": "ziacj9OmZYve",
        "outputId": "bbc3db46-3746-42cc-d1bb-e0e1d70837e2"
      },
      "source": [
        "print(M[2])"
      ],
      "execution_count": 224,
      "outputs": [
        {
          "output_type": "stream",
          "name": "stdout",
          "text": [
            "['C' 'F' 'I']\n"
          ]
        }
      ]
    },
    {
      "cell_type": "code",
      "metadata": {
        "colab": {
          "base_uri": "https://localhost:8080/"
        },
        "id": "36EanS1bZeZJ",
        "outputId": "426d6b54-1f0d-4db0-b6e2-8e9ee4e16030"
      },
      "source": [
        "print('First column:', Ar[:,0])\n",
        "print('Second column:', Ar[:,1])"
      ],
      "execution_count": 225,
      "outputs": [
        {
          "output_type": "stream",
          "name": "stdout",
          "text": [
            "First column: [1 2]\n",
            "Second column: [3 4]\n"
          ]
        }
      ]
    },
    {
      "cell_type": "code",
      "metadata": {
        "colab": {
          "base_uri": "https://localhost:8080/"
        },
        "id": "41mdP-W2Zidn",
        "outputId": "b31ae3e3-a6d5-46fd-a9fc-ea3b0fb0efb4"
      },
      "source": [
        "print('Third column:', M[:,2])"
      ],
      "execution_count": 227,
      "outputs": [
        {
          "output_type": "stream",
          "name": "stdout",
          "text": [
            "Third column: ['G' 'H' 'I']\n"
          ]
        }
      ]
    },
    {
      "cell_type": "markdown",
      "metadata": {
        "id": "2bF8ucvpYBFw"
      },
      "source": [
        "### Array Functions"
      ]
    },
    {
      "cell_type": "code",
      "metadata": {
        "colab": {
          "base_uri": "https://localhost:8080/"
        },
        "id": "cZ_oKoQ2Zt6B",
        "outputId": "50075d8c-a4a3-43b1-d0b5-b7b9d70f8627"
      },
      "source": [
        "np.log(price_array)"
      ],
      "execution_count": 228,
      "outputs": [
        {
          "output_type": "execute_result",
          "data": {
            "text/plain": [
              "array([4.96793654, 4.98244156, 4.9675886 , 4.96995218, 4.96633504,\n",
              "       4.96018375])"
            ]
          },
          "metadata": {},
          "execution_count": 228
        }
      ]
    },
    {
      "cell_type": "code",
      "metadata": {
        "colab": {
          "base_uri": "https://localhost:8080/"
        },
        "id": "_tMYPN_CZv_O",
        "outputId": "fd8c234a-d1dd-42de-d58d-a26bf925655d"
      },
      "source": [
        "np.mean(price_array)\n",
        "print(np.std(price_array))\n",
        "print(np.sum(price_array))\n",
        "print(np.max(price_array))"
      ],
      "execution_count": 229,
      "outputs": [
        {
          "output_type": "stream",
          "name": "stdout",
          "text": [
            "0.9673790478515796\n",
            "863.38\n",
            "145.83\n"
          ]
        }
      ]
    },
    {
      "cell_type": "code",
      "metadata": {
        "id": "d5A5JWa8aAuO"
      },
      "source": [
        "# Looks like none of the functions work on a String array."
      ],
      "execution_count": 232,
      "outputs": []
    },
    {
      "cell_type": "markdown",
      "metadata": {
        "id": "ov2WaXliX2ah"
      },
      "source": [
        "## Pandas"
      ]
    },
    {
      "cell_type": "code",
      "metadata": {
        "id": "U0reAlcwa4zg"
      },
      "source": [
        "import pandas as pd"
      ],
      "execution_count": 233,
      "outputs": []
    },
    {
      "cell_type": "markdown",
      "metadata": {
        "id": "IZfOq6CCa89X"
      },
      "source": [
        "### Series"
      ]
    },
    {
      "cell_type": "code",
      "metadata": {
        "colab": {
          "base_uri": "https://localhost:8080/"
        },
        "id": "RTovWHxUbEJW",
        "outputId": "3813de1f-16da-4a4a-e14f-f188cfbc1208"
      },
      "source": [
        "price = [143.73, 145.83, 143.68, 144.02, 143.5, 142.62]\n",
        "s = pd.Series(price)\n",
        "print(s)"
      ],
      "execution_count": 236,
      "outputs": [
        {
          "output_type": "stream",
          "name": "stdout",
          "text": [
            "0    143.73\n",
            "1    145.83\n",
            "2    143.68\n",
            "3    144.02\n",
            "4    143.50\n",
            "5    142.62\n",
            "dtype: float64\n"
          ]
        }
      ]
    },
    {
      "cell_type": "code",
      "metadata": {
        "colab": {
          "base_uri": "https://localhost:8080/"
        },
        "id": "Xzuf-pZMbJiR",
        "outputId": "e7562a63-c99d-4529-c48f-4ab1df247726"
      },
      "source": [
        "ranges = [0.0, 0.2, 0.4, 0.6, 0.8, 1.0, 1.2, 1.4, 1.6, 1.8, 2.0]\n",
        "ss = pd.Series(map(lambda x: np.log(x), ranges))\n",
        "print(ss)"
      ],
      "execution_count": 238,
      "outputs": [
        {
          "output_type": "stream",
          "name": "stdout",
          "text": [
            "0         -inf\n",
            "1    -1.609438\n",
            "2    -0.916291\n",
            "3    -0.510826\n",
            "4    -0.223144\n",
            "5     0.000000\n",
            "6     0.182322\n",
            "7     0.336472\n",
            "8     0.470004\n",
            "9     0.587787\n",
            "10    0.693147\n",
            "dtype: float64\n"
          ]
        },
        {
          "output_type": "stream",
          "name": "stderr",
          "text": [
            "/usr/local/lib/python3.7/dist-packages/ipykernel_launcher.py:2: RuntimeWarning: divide by zero encountered in log\n",
            "  \n"
          ]
        }
      ]
    },
    {
      "cell_type": "code",
      "metadata": {
        "colab": {
          "base_uri": "https://localhost:8080/"
        },
        "id": "cIotKs0McI2j",
        "outputId": "5c7737ba-897a-44df-905b-3d341a8c40fc"
      },
      "source": [
        "s = pd.Series(price, index = ['a', 'b', 'c', 'd', 'e', 'f'])\n",
        "print(s)"
      ],
      "execution_count": 240,
      "outputs": [
        {
          "output_type": "stream",
          "name": "stdout",
          "text": [
            "a    143.73\n",
            "b    145.83\n",
            "c    143.68\n",
            "d    144.02\n",
            "e    143.50\n",
            "f    142.62\n",
            "dtype: float64\n"
          ]
        }
      ]
    },
    {
      "cell_type": "code",
      "metadata": {
        "colab": {
          "base_uri": "https://localhost:8080/"
        },
        "id": "WdASLSQrcP4L",
        "outputId": "23edd42e-6e29-464a-e714-4a2e61f6f85b"
      },
      "source": [
        "ss = pd.Series(map(lambda x: np.log(x), ranges), index = ['a', 'b', 'c', 'd', 'e', 'f', 'g', 'h', 'i', 'j', 'k'])\n",
        "print(ss)"
      ],
      "execution_count": 242,
      "outputs": [
        {
          "output_type": "stream",
          "name": "stdout",
          "text": [
            "a        -inf\n",
            "b   -1.609438\n",
            "c   -0.916291\n",
            "d   -0.510826\n",
            "e   -0.223144\n",
            "f    0.000000\n",
            "g    0.182322\n",
            "h    0.336472\n",
            "i    0.470004\n",
            "j    0.587787\n",
            "k    0.693147\n",
            "dtype: float64\n"
          ]
        },
        {
          "output_type": "stream",
          "name": "stderr",
          "text": [
            "/usr/local/lib/python3.7/dist-packages/ipykernel_launcher.py:1: RuntimeWarning: divide by zero encountered in log\n",
            "  \"\"\"Entry point for launching an IPython kernel.\n"
          ]
        }
      ]
    },
    {
      "cell_type": "code",
      "metadata": {
        "colab": {
          "base_uri": "https://localhost:8080/"
        },
        "id": "iPEXnz3ecgoX",
        "outputId": "14f60f8d-bd55-4075-ecf5-c557e2814fd0"
      },
      "source": [
        "s.index = [6,5,4,3,2,1]\n",
        "print(s)"
      ],
      "execution_count": 243,
      "outputs": [
        {
          "output_type": "stream",
          "name": "stdout",
          "text": [
            "6    143.73\n",
            "5    145.83\n",
            "4    143.68\n",
            "3    144.02\n",
            "2    143.50\n",
            "1    142.62\n",
            "dtype: float64\n"
          ]
        }
      ]
    },
    {
      "cell_type": "code",
      "metadata": {
        "colab": {
          "base_uri": "https://localhost:8080/"
        },
        "id": "eWCu-MbKcjFW",
        "outputId": "274c2862-8639-43f3-80c1-e5ed02ba8415"
      },
      "source": [
        "ss.index = ['a', 'b', 'c', 'd', 'e', 'f', 'g', 'h', 'i', 'j', 'k']\n",
        "print(ss)"
      ],
      "execution_count": 244,
      "outputs": [
        {
          "output_type": "stream",
          "name": "stdout",
          "text": [
            "a        -inf\n",
            "b   -1.609438\n",
            "c   -0.916291\n",
            "d   -0.510826\n",
            "e   -0.223144\n",
            "f    0.000000\n",
            "g    0.182322\n",
            "h    0.336472\n",
            "i    0.470004\n",
            "j    0.587787\n",
            "k    0.693147\n",
            "dtype: float64\n"
          ]
        }
      ]
    },
    {
      "cell_type": "code",
      "metadata": {
        "colab": {
          "base_uri": "https://localhost:8080/"
        },
        "id": "oXK8EIfWcrn5",
        "outputId": "ff66f391-4f57-456f-a992-1928aa8c470e"
      },
      "source": [
        "print(s[1:])\n",
        "print(s[:-2])"
      ],
      "execution_count": 245,
      "outputs": [
        {
          "output_type": "stream",
          "name": "stdout",
          "text": [
            "5    145.83\n",
            "4    143.68\n",
            "3    144.02\n",
            "2    143.50\n",
            "1    142.62\n",
            "dtype: float64\n",
            "6    143.73\n",
            "5    145.83\n",
            "4    143.68\n",
            "3    144.02\n",
            "dtype: float64\n"
          ]
        }
      ]
    },
    {
      "cell_type": "code",
      "metadata": {
        "colab": {
          "base_uri": "https://localhost:8080/"
        },
        "id": "6FJHcsCwc3rH",
        "outputId": "f16b6166-4854-4336-d784-f22b2e2f2243"
      },
      "source": [
        "print(ss[0:5])"
      ],
      "execution_count": 248,
      "outputs": [
        {
          "output_type": "stream",
          "name": "stdout",
          "text": [
            "a        -inf\n",
            "b   -1.609438\n",
            "c   -0.916291\n",
            "d   -0.510826\n",
            "e   -0.223144\n",
            "dtype: float64\n"
          ]
        }
      ]
    },
    {
      "cell_type": "code",
      "metadata": {
        "colab": {
          "base_uri": "https://localhost:8080/"
        },
        "id": "mlvI6bZIc-cv",
        "outputId": "15618fab-0238-4f78-9239-92fea68de090"
      },
      "source": [
        "print(s[4])\n",
        "s[4] = 0\n",
        "print(s)"
      ],
      "execution_count": 249,
      "outputs": [
        {
          "output_type": "stream",
          "name": "stdout",
          "text": [
            "143.68\n",
            "6    143.73\n",
            "5    145.83\n",
            "4      0.00\n",
            "3    144.02\n",
            "2    143.50\n",
            "1    142.62\n",
            "dtype: float64\n"
          ]
        }
      ]
    },
    {
      "cell_type": "code",
      "metadata": {
        "colab": {
          "base_uri": "https://localhost:8080/"
        },
        "id": "IOs5b4pLdC9f",
        "outputId": "b5b4cf37-0559-40b7-a7eb-2c6ad2537bc5"
      },
      "source": [
        "print(ss[0])\n",
        "ss[0] = 0.0\n",
        "print(ss)"
      ],
      "execution_count": 250,
      "outputs": [
        {
          "output_type": "stream",
          "name": "stdout",
          "text": [
            "-inf\n",
            "a    0.000000\n",
            "b   -1.609438\n",
            "c   -0.916291\n",
            "d   -0.510826\n",
            "e   -0.223144\n",
            "f    0.000000\n",
            "g    0.182322\n",
            "h    0.336472\n",
            "i    0.470004\n",
            "j    0.587787\n",
            "k    0.693147\n",
            "dtype: float64\n"
          ]
        }
      ]
    },
    {
      "cell_type": "code",
      "metadata": {
        "colab": {
          "base_uri": "https://localhost:8080/"
        },
        "id": "0ArCSHwfdQJ4",
        "outputId": "f2092986-c2da-4a32-9be4-de59860419a6"
      },
      "source": [
        "s = pd.Series(price, name = 'Apple Prices')\n",
        "print(s)\n",
        "print(s.name)"
      ],
      "execution_count": 251,
      "outputs": [
        {
          "output_type": "stream",
          "name": "stdout",
          "text": [
            "0    143.73\n",
            "1    145.83\n",
            "2    143.68\n",
            "3    144.02\n",
            "4    143.50\n",
            "5    142.62\n",
            "Name: Apple Prices, dtype: float64\n",
            "Apple Prices\n"
          ]
        }
      ]
    },
    {
      "cell_type": "code",
      "metadata": {
        "colab": {
          "base_uri": "https://localhost:8080/"
        },
        "id": "4zEF3Fh4dUPB",
        "outputId": "0b46bf93-c7bf-41c3-a682-6b8b0dd7ceaa"
      },
      "source": [
        "ss.name = 'Logarithms of x'\n",
        "print(ss)\n",
        "print(ss.name)"
      ],
      "execution_count": 252,
      "outputs": [
        {
          "output_type": "stream",
          "name": "stdout",
          "text": [
            "a    0.000000\n",
            "b   -1.609438\n",
            "c   -0.916291\n",
            "d   -0.510826\n",
            "e   -0.223144\n",
            "f    0.000000\n",
            "g    0.182322\n",
            "h    0.336472\n",
            "i    0.470004\n",
            "j    0.587787\n",
            "k    0.693147\n",
            "Name: Logarithms of x, dtype: float64\n",
            "Logarithms of x\n"
          ]
        }
      ]
    },
    {
      "cell_type": "code",
      "metadata": {
        "colab": {
          "base_uri": "https://localhost:8080/"
        },
        "id": "MJPoEyNWdhm-",
        "outputId": "359d9f5b-6110-4bee-896f-0aefbc18da92"
      },
      "source": [
        "print(s.describe())"
      ],
      "execution_count": 254,
      "outputs": [
        {
          "output_type": "stream",
          "name": "stdout",
          "text": [
            "count      6.000000\n",
            "mean     143.896667\n",
            "std        1.059711\n",
            "min      142.620000\n",
            "25%      143.545000\n",
            "50%      143.705000\n",
            "75%      143.947500\n",
            "max      145.830000\n",
            "Name: Apple Prices, dtype: float64\n"
          ]
        }
      ]
    },
    {
      "cell_type": "code",
      "metadata": {
        "colab": {
          "base_uri": "https://localhost:8080/"
        },
        "id": "5KHw9WJAdj92",
        "outputId": "3f708c75-87e9-46e1-ccd3-8f9ff4ed5f65"
      },
      "source": [
        "print(ss.describe())"
      ],
      "execution_count": 255,
      "outputs": [
        {
          "output_type": "stream",
          "name": "stdout",
          "text": [
            "count    11.000000\n",
            "mean     -0.089997\n",
            "std       0.696048\n",
            "min      -1.609438\n",
            "25%      -0.366985\n",
            "50%       0.000000\n",
            "75%       0.403238\n",
            "max       0.693147\n",
            "Name: Logarithms of x, dtype: float64\n"
          ]
        }
      ]
    },
    {
      "cell_type": "markdown",
      "metadata": {
        "id": "OiX-fW5Gdn8G"
      },
      "source": [
        "### Time Index"
      ]
    },
    {
      "cell_type": "code",
      "metadata": {
        "colab": {
          "base_uri": "https://localhost:8080/"
        },
        "id": "eC4axQ95ds9o",
        "outputId": "591d2573-cb78-4a08-9144-0a387b98c2c4"
      },
      "source": [
        "time_index = pd.date_range('2017-01-01', periods = len(s), freq = 'D')\n",
        "print(time_index)\n",
        "s.index = time_index\n",
        "print(s)"
      ],
      "execution_count": 256,
      "outputs": [
        {
          "output_type": "stream",
          "name": "stdout",
          "text": [
            "DatetimeIndex(['2017-01-01', '2017-01-02', '2017-01-03', '2017-01-04',\n",
            "               '2017-01-05', '2017-01-06'],\n",
            "              dtype='datetime64[ns]', freq='D')\n",
            "2017-01-01    143.73\n",
            "2017-01-02    145.83\n",
            "2017-01-03    143.68\n",
            "2017-01-04    144.02\n",
            "2017-01-05    143.50\n",
            "2017-01-06    142.62\n",
            "Freq: D, Name: Apple Prices, dtype: float64\n"
          ]
        }
      ]
    },
    {
      "cell_type": "code",
      "metadata": {
        "colab": {
          "base_uri": "https://localhost:8080/"
        },
        "id": "CYoNQWrldzTO",
        "outputId": "c5d144d0-69dd-4107-d87f-71c20d5a75de"
      },
      "source": [
        "months = pd.date_range('2021-10-19', periods = len(ss), freq = 'M')\n",
        "print(months)\n",
        "ss.index = months\n",
        "print(ss)"
      ],
      "execution_count": 257,
      "outputs": [
        {
          "output_type": "stream",
          "name": "stdout",
          "text": [
            "DatetimeIndex(['2021-10-31', '2021-11-30', '2021-12-31', '2022-01-31',\n",
            "               '2022-02-28', '2022-03-31', '2022-04-30', '2022-05-31',\n",
            "               '2022-06-30', '2022-07-31', '2022-08-31'],\n",
            "              dtype='datetime64[ns]', freq='M')\n",
            "2021-10-31    0.000000\n",
            "2021-11-30   -1.609438\n",
            "2021-12-31   -0.916291\n",
            "2022-01-31   -0.510826\n",
            "2022-02-28   -0.223144\n",
            "2022-03-31    0.000000\n",
            "2022-04-30    0.182322\n",
            "2022-05-31    0.336472\n",
            "2022-06-30    0.470004\n",
            "2022-07-31    0.587787\n",
            "2022-08-31    0.693147\n",
            "Freq: M, Name: Logarithms of x, dtype: float64\n"
          ]
        }
      ]
    },
    {
      "cell_type": "code",
      "metadata": {
        "colab": {
          "base_uri": "https://localhost:8080/"
        },
        "id": "5erF9ZkkeKYi",
        "outputId": "f3c9462f-7693-4ccf-a91a-b971d7a6eb96"
      },
      "source": [
        "s.index = [6,5,4,3,2,1]\n",
        "print(s)\n",
        "print(s[1])"
      ],
      "execution_count": 258,
      "outputs": [
        {
          "output_type": "stream",
          "name": "stdout",
          "text": [
            "6    143.73\n",
            "5    145.83\n",
            "4    143.68\n",
            "3    144.02\n",
            "2    143.50\n",
            "1    142.62\n",
            "Name: Apple Prices, dtype: float64\n",
            "142.62\n"
          ]
        }
      ]
    },
    {
      "cell_type": "code",
      "metadata": {
        "colab": {
          "base_uri": "https://localhost:8080/"
        },
        "id": "XKW6g-9deNpJ",
        "outputId": "ffc3e9d1-c23d-434b-abe7-d03283de79d9"
      },
      "source": [
        "print(s.iloc[1])"
      ],
      "execution_count": 259,
      "outputs": [
        {
          "output_type": "stream",
          "name": "stdout",
          "text": [
            "145.83\n"
          ]
        }
      ]
    },
    {
      "cell_type": "code",
      "metadata": {
        "colab": {
          "base_uri": "https://localhost:8080/"
        },
        "id": "De3UjmUFePUo",
        "outputId": "798d73c5-db8a-4547-95dc-8ba06ba843bf"
      },
      "source": [
        "print(ss.iloc[0])"
      ],
      "execution_count": 263,
      "outputs": [
        {
          "output_type": "stream",
          "name": "stdout",
          "text": [
            "0.0\n"
          ]
        }
      ]
    },
    {
      "cell_type": "code",
      "metadata": {
        "colab": {
          "base_uri": "https://localhost:8080/"
        },
        "id": "NdvWX-ScebqZ",
        "outputId": "9d0bec7b-12e8-4cc5-b144-a2e2a3eba6f4"
      },
      "source": [
        "s.index = time_index\n",
        "print(s['2017-01-03'])"
      ],
      "execution_count": 264,
      "outputs": [
        {
          "output_type": "stream",
          "name": "stdout",
          "text": [
            "143.68\n"
          ]
        }
      ]
    },
    {
      "cell_type": "code",
      "metadata": {
        "colab": {
          "base_uri": "https://localhost:8080/"
        },
        "id": "67oAJTK3edn_",
        "outputId": "5d5eb884-a286-4542-f9dd-65e5e5f6c6c4"
      },
      "source": [
        "print(ss['2021-10-31'])"
      ],
      "execution_count": 267,
      "outputs": [
        {
          "output_type": "stream",
          "name": "stdout",
          "text": [
            "0.0\n"
          ]
        }
      ]
    },
    {
      "cell_type": "code",
      "metadata": {
        "colab": {
          "base_uri": "https://localhost:8080/"
        },
        "id": "Ume57jgdet95",
        "outputId": "e8211ee5-4614-411f-b836-bfa49f61e1fd"
      },
      "source": [
        "print(s['2017-01-02':'2017-01-05'])"
      ],
      "execution_count": 268,
      "outputs": [
        {
          "output_type": "stream",
          "name": "stdout",
          "text": [
            "2017-01-02    145.83\n",
            "2017-01-03    143.68\n",
            "2017-01-04    144.02\n",
            "2017-01-05    143.50\n",
            "Freq: D, Name: Apple Prices, dtype: float64\n"
          ]
        }
      ]
    },
    {
      "cell_type": "code",
      "metadata": {
        "colab": {
          "base_uri": "https://localhost:8080/"
        },
        "id": "f_dsx34tev-F",
        "outputId": "67695fab-88eb-448e-b1bb-8f224ce6a35a"
      },
      "source": [
        "print(ss['2022-01-01':'2023-01-01'])"
      ],
      "execution_count": 269,
      "outputs": [
        {
          "output_type": "stream",
          "name": "stdout",
          "text": [
            "2022-01-31   -0.510826\n",
            "2022-02-28   -0.223144\n",
            "2022-03-31    0.000000\n",
            "2022-04-30    0.182322\n",
            "2022-05-31    0.336472\n",
            "2022-06-30    0.470004\n",
            "2022-07-31    0.587787\n",
            "2022-08-31    0.693147\n",
            "Freq: M, Name: Logarithms of x, dtype: float64\n"
          ]
        }
      ]
    },
    {
      "cell_type": "code",
      "metadata": {
        "colab": {
          "base_uri": "https://localhost:8080/"
        },
        "id": "EAXsRaIXe5GA",
        "outputId": "2c9bc6f9-7651-4847-cdc8-cc0e301ce651"
      },
      "source": [
        "print(s[s < np.mean(s)])\n",
        "print(s[(s > np.mean(s)) & (s < np.mean(s) + 1.64*np.std(s))])"
      ],
      "execution_count": 270,
      "outputs": [
        {
          "output_type": "stream",
          "name": "stdout",
          "text": [
            "2017-01-01    143.73\n",
            "2017-01-03    143.68\n",
            "2017-01-05    143.50\n",
            "2017-01-06    142.62\n",
            "Name: Apple Prices, dtype: float64\n",
            "2017-01-04    144.02\n",
            "Freq: D, Name: Apple Prices, dtype: float64\n"
          ]
        }
      ]
    },
    {
      "cell_type": "code",
      "metadata": {
        "colab": {
          "base_uri": "https://localhost:8080/"
        },
        "id": "cGuY-x7ie765",
        "outputId": "0a71d7cf-ba5c-40de-c414-11a3d48dd893"
      },
      "source": [
        "print(ss[months < '2021-12-31'])"
      ],
      "execution_count": 271,
      "outputs": [
        {
          "output_type": "stream",
          "name": "stdout",
          "text": [
            "2021-10-31    0.000000\n",
            "2021-11-30   -1.609438\n",
            "Freq: M, Name: Logarithms of x, dtype: float64\n"
          ]
        }
      ]
    }
  ]
}